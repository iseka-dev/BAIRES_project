{
 "cells": [
  {
   "cell_type": "markdown",
   "metadata": {},
   "source": [
    "## Real estate market analysis in Buenos Aires"
   ]
  },
  {
   "cell_type": "markdown",
   "metadata": {},
   "source": [
    "Go to <a href='https://github.com/iseka-dev/DataScience-Projects/BAIRES_Project/README.md'>readme</a> for a detailed description about the project and the dataset.\n",
    "\n",
    "*Data provided by <a href='https://www.properati.com.ar/data'>Properati</a>.*"
   ]
  },
  {
   "cell_type": "code",
   "execution_count": 1,
   "metadata": {},
   "outputs": [],
   "source": [
    "import numpy as np\n",
    "import pandas as pd\n",
    "import matplotlib.pylab as plt\n",
    "import seaborn as sns"
   ]
  },
  {
   "cell_type": "code",
   "execution_count": 2,
   "metadata": {},
   "outputs": [],
   "source": [
    "%matplotlib inline\n",
    "plt.rcParams['figure.figsize'] = (12,8) # figures size\n",
    "pd.set_option('max_columns', 120)\n",
    "pd.set_option('max_colwidth', 5000)"
   ]
  },
  {
   "cell_type": "markdown",
   "metadata": {},
   "source": [
    "### Preparing dataset"
   ]
  },
  {
   "cell_type": "code",
   "execution_count": 3,
   "metadata": {},
   "outputs": [],
   "source": [
    "# dataset load\n",
    "\n",
    "df = pd.read_csv('./datos_properati.csv', parse_dates=['created_on'])"
   ]
  },
  {
   "cell_type": "code",
   "execution_count": 4,
   "metadata": {},
   "outputs": [
    {
     "name": "stdout",
     "output_type": "stream",
     "text": [
      "(18979, 17)\n"
     ]
    },
    {
     "data": {
      "text/html": [
       "<div>\n",
       "<style scoped>\n",
       "    .dataframe tbody tr th:only-of-type {\n",
       "        vertical-align: middle;\n",
       "    }\n",
       "\n",
       "    .dataframe tbody tr th {\n",
       "        vertical-align: top;\n",
       "    }\n",
       "\n",
       "    .dataframe thead th {\n",
       "        text-align: right;\n",
       "    }\n",
       "</style>\n",
       "<table border=\"1\" class=\"dataframe\">\n",
       "  <thead>\n",
       "    <tr style=\"text-align: right;\">\n",
       "      <th></th>\n",
       "      <th>created_on</th>\n",
       "      <th>operation</th>\n",
       "      <th>property_type</th>\n",
       "      <th>place_with_parent_names</th>\n",
       "      <th>lat-lon</th>\n",
       "      <th>lat</th>\n",
       "      <th>lon</th>\n",
       "      <th>price_aprox_usd</th>\n",
       "      <th>surface_total_in_m2</th>\n",
       "      <th>surface_covered_in_m2</th>\n",
       "      <th>price_usd_per_m2</th>\n",
       "      <th>floor</th>\n",
       "      <th>rooms</th>\n",
       "      <th>expenses</th>\n",
       "      <th>properati_url</th>\n",
       "      <th>barrio</th>\n",
       "      <th>comuna</th>\n",
       "    </tr>\n",
       "  </thead>\n",
       "  <tbody>\n",
       "    <tr>\n",
       "      <th>0</th>\n",
       "      <td>2017-09-22</td>\n",
       "      <td>sell</td>\n",
       "      <td>house</td>\n",
       "      <td>|Argentina|Capital Federal|Palermo|Palermo Viejo|</td>\n",
       "      <td>-34.5889531469,-58.4298817776</td>\n",
       "      <td>-34.588953</td>\n",
       "      <td>-58.429882</td>\n",
       "      <td>2000000.0</td>\n",
       "      <td>312.0</td>\n",
       "      <td>NaN</td>\n",
       "      <td>6410.25641</td>\n",
       "      <td>NaN</td>\n",
       "      <td>NaN</td>\n",
       "      <td>NaN</td>\n",
       "      <td>https://www.properati.com.ar/2os_venta_casa_palermo-viejo_rent-ba</td>\n",
       "      <td>PALERMO</td>\n",
       "      <td>14.0</td>\n",
       "    </tr>\n",
       "    <tr>\n",
       "      <th>1</th>\n",
       "      <td>2017-08-01</td>\n",
       "      <td>sell</td>\n",
       "      <td>store</td>\n",
       "      <td>|Argentina|Capital Federal|Palermo|</td>\n",
       "      <td>-34.586069,-58.414431</td>\n",
       "      <td>-34.586069</td>\n",
       "      <td>-58.414431</td>\n",
       "      <td>790000.0</td>\n",
       "      <td>121.0</td>\n",
       "      <td>121.0</td>\n",
       "      <td>6528.92562</td>\n",
       "      <td>NaN</td>\n",
       "      <td>NaN</td>\n",
       "      <td>NaN</td>\n",
       "      <td>https://www.properati.com.ar/1cl7l_venta_local_palermo_santa-fe-av-al-3500_sotano_garage_subte-linea-d_deptos-temporarios</td>\n",
       "      <td>PALERMO</td>\n",
       "      <td>14.0</td>\n",
       "    </tr>\n",
       "    <tr>\n",
       "      <th>2</th>\n",
       "      <td>2017-08-02</td>\n",
       "      <td>sell</td>\n",
       "      <td>store</td>\n",
       "      <td>|Argentina|Capital Federal|Palermo|Palermo Soho|</td>\n",
       "      <td>-34.589723,-58.4325664</td>\n",
       "      <td>-34.589723</td>\n",
       "      <td>-58.432566</td>\n",
       "      <td>343000.0</td>\n",
       "      <td>122.0</td>\n",
       "      <td>108.0</td>\n",
       "      <td>2811.47541</td>\n",
       "      <td>NaN</td>\n",
       "      <td>2.0</td>\n",
       "      <td>NaN</td>\n",
       "      <td>https://www.properati.com.ar/1cm8w_venta_local_palermo-soho_cabrera-jose-a-_5000_jardin_lavadero_patio_piscina_toilette_garage_ojo-propiedades</td>\n",
       "      <td>PALERMO</td>\n",
       "      <td>14.0</td>\n",
       "    </tr>\n",
       "  </tbody>\n",
       "</table>\n",
       "</div>"
      ],
      "text/plain": [
       "  created_on operation property_type  \\\n",
       "0 2017-09-22      sell         house   \n",
       "1 2017-08-01      sell         store   \n",
       "2 2017-08-02      sell         store   \n",
       "\n",
       "                             place_with_parent_names  \\\n",
       "0  |Argentina|Capital Federal|Palermo|Palermo Viejo|   \n",
       "1                |Argentina|Capital Federal|Palermo|   \n",
       "2   |Argentina|Capital Federal|Palermo|Palermo Soho|   \n",
       "\n",
       "                         lat-lon        lat        lon  price_aprox_usd  \\\n",
       "0  -34.5889531469,-58.4298817776 -34.588953 -58.429882        2000000.0   \n",
       "1          -34.586069,-58.414431 -34.586069 -58.414431         790000.0   \n",
       "2         -34.589723,-58.4325664 -34.589723 -58.432566         343000.0   \n",
       "\n",
       "   surface_total_in_m2  surface_covered_in_m2  price_usd_per_m2  floor  rooms  \\\n",
       "0                312.0                    NaN        6410.25641    NaN    NaN   \n",
       "1                121.0                  121.0        6528.92562    NaN    NaN   \n",
       "2                122.0                  108.0        2811.47541    NaN    2.0   \n",
       "\n",
       "   expenses  \\\n",
       "0       NaN   \n",
       "1       NaN   \n",
       "2       NaN   \n",
       "\n",
       "                                                                                                                                    properati_url  \\\n",
       "0                                                                               https://www.properati.com.ar/2os_venta_casa_palermo-viejo_rent-ba   \n",
       "1                       https://www.properati.com.ar/1cl7l_venta_local_palermo_santa-fe-av-al-3500_sotano_garage_subte-linea-d_deptos-temporarios   \n",
       "2  https://www.properati.com.ar/1cm8w_venta_local_palermo-soho_cabrera-jose-a-_5000_jardin_lavadero_patio_piscina_toilette_garage_ojo-propiedades   \n",
       "\n",
       "    barrio  comuna  \n",
       "0  PALERMO    14.0  \n",
       "1  PALERMO    14.0  \n",
       "2  PALERMO    14.0  "
      ]
     },
     "execution_count": 4,
     "metadata": {},
     "output_type": "execute_result"
    }
   ],
   "source": [
    "print(df.shape)\n",
    "df.head(3)"
   ]
  },
  {
   "cell_type": "code",
   "execution_count": 5,
   "metadata": {},
   "outputs": [
    {
     "name": "stdout",
     "output_type": "stream",
     "text": [
      "property types:  ['house' 'store' 'apartment' 'PH']\n",
      "\n",
      "count per property:\n",
      "\n",
      " apartment    14807\n",
      "house         1618\n",
      "PH            1463\n",
      "store         1091\n",
      "Name: property_type, dtype: int64\n"
     ]
    }
   ],
   "source": [
    "print(\"property types: \", df.property_type.unique())\n",
    "print()\n",
    "print(\"count per property:\\n\\n\",df.property_type.value_counts())"
   ]
  },
  {
   "cell_type": "code",
   "execution_count": 6,
   "metadata": {
    "scrolled": true
   },
   "outputs": [
    {
     "name": "stdout",
     "output_type": "stream",
     "text": [
      "Instances of set :  17888\n"
     ]
    }
   ],
   "source": [
    "# filtering 'store' in property type \n",
    "\n",
    "df_filtered = df[df['property_type'].isin(['house','apartment','PH'])]\n",
    "print('Instances of set : ',df_filtered.shape[0])"
   ]
  },
  {
   "cell_type": "code",
   "execution_count": 7,
   "metadata": {
    "scrolled": false
   },
   "outputs": [
    {
     "data": {
      "image/png": "[encoded data removed]",
      "text/plain": [
       "<Figure size 864x576 with 1 Axes>"
      ]
     },
     "metadata": {
      "needs_background": "light"
     },
     "output_type": "display_data"
    }
   ],
   "source": [
    "# Visualization of number of properties of each type\n",
    "countplot = sns.countplot(x='property_type', data=df_filtered)"
   ]
  },
  {
   "cell_type": "code",
   "execution_count": 8,
   "metadata": {},
   "outputs": [
    {
     "data": {
      "text/plain": [
       "price_aprox_usd           7.697898\n",
       "surface_total_in_m2      12.281977\n",
       "surface_covered_in_m2    10.733453\n",
       "price_usd_per_m2         14.987701\n",
       "floor                    84.794275\n",
       "rooms                    25.050313\n",
       "expenses                 79.326923\n",
       "dtype: float64"
      ]
     },
     "execution_count": 8,
     "metadata": {},
     "output_type": "execute_result"
    }
   ],
   "source": [
    "total = df_filtered.shape[0]\n",
    "df_filtered.loc[:,'price_aprox_usd':'expenses'].isna().sum()*100/total"
   ]
  },
  {
   "cell_type": "code",
   "execution_count": 9,
   "metadata": {},
   "outputs": [
    {
     "data": {
      "text/plain": [
       "Index(['created_on', 'operation', 'property_type', 'place_with_parent_names',\n",
       "       'lat-lon', 'lat', 'lon', 'price_aprox_usd', 'surface_total_in_m2',\n",
       "       'surface_covered_in_m2', 'price_usd_per_m2', 'floor', 'rooms',\n",
       "       'expenses', 'properati_url', 'barrio', 'comuna'],\n",
       "      dtype='object')"
      ]
     },
     "execution_count": 9,
     "metadata": {},
     "output_type": "execute_result"
    }
   ],
   "source": [
    "df_filtered.columns"
   ]
  },
  {
   "cell_type": "code",
   "execution_count": 10,
   "metadata": {},
   "outputs": [
    {
     "data": {
      "text/plain": [
       "price_aprox_usd           7.697898\n",
       "surface_total_in_m2      12.281977\n",
       "surface_covered_in_m2    10.733453\n",
       "price_usd_per_m2         14.987701\n",
       "rooms                    25.050313\n",
       "properati_url             0.000000\n",
       "barrio                    0.000000\n",
       "comuna                    0.000000\n",
       "dtype: float64"
      ]
     },
     "execution_count": 10,
     "metadata": {},
     "output_type": "execute_result"
    }
   ],
   "source": [
    "df_filtered = df_filtered.drop(columns=['floor','expenses'])\n",
    "total = df_filtered.shape[0]\n",
    "df_filtered.loc[:,'price_aprox_usd'::].isna().sum()*100/total"
   ]
  },
  {
   "cell_type": "code",
   "execution_count": 11,
   "metadata": {},
   "outputs": [
    {
     "name": "stdout",
     "output_type": "stream",
     "text": [
      "Missing data at 'total surface in m2' has been replaced with 'covered surface in m2' at -- 889 -- properties.\n"
     ]
    }
   ],
   "source": [
    "# completing null values at 'total surface' with 'cov surface'\n",
    "values = {'surface_total_in_m2': df_filtered['surface_covered_in_m2']}\n",
    "df_filt2 = df_filtered.fillna(value=values)\n",
    "d = df_filtered.surface_total_in_m2.isna().sum() - df_filt2.surface_total_in_m2.isna().sum()\n",
    "print(\"Missing data at 'total surface in m2' has been replaced with 'covered surface in m2' at -- \" +  str(d) + \" -- properties.\")"
   ]
  },
  {
   "cell_type": "code",
   "execution_count": 12,
   "metadata": {},
   "outputs": [
    {
     "name": "stdout",
     "output_type": "stream",
     "text": [
      "There are -- 112 -- instances where covered surface is greater than total surface\n"
     ]
    }
   ],
   "source": [
    "# correcting errors\n",
    "wrong_surface_rows = df_filt2[df_filt2['surface_total_in_m2'] < df_filt2['surface_covered_in_m2']]\n",
    "print(\"There are -- \" + str(wrong_surface_rows.shape[0]) + \" -- instances where covered surface is greater than total surface\")"
   ]
  },
  {
   "cell_type": "code",
   "execution_count": 13,
   "metadata": {
    "scrolled": true
   },
   "outputs": [],
   "source": [
    "df_filt2.at[wrong_surface_rows.index, 'surface_total_in_m2'] = wrong_surface_rows.surface_covered_in_m2\n",
    "df_filt2.at[wrong_surface_rows.index, 'surface_covered_in_m2'] = wrong_surface_rows.surface_total_in_m2"
   ]
  },
  {
   "cell_type": "code",
   "execution_count": 14,
   "metadata": {},
   "outputs": [
    {
     "name": "stdout",
     "output_type": "stream",
     "text": [
      "There are -- 0 -- instances where covered surface is greater than total surface\n"
     ]
    }
   ],
   "source": [
    "#checking\n",
    "wrong_surface_rows = df_filt2[df_filt2['surface_total_in_m2'] < df_filt2['surface_covered_in_m2']]\n",
    "print(\"There are -- \" + str(wrong_surface_rows.shape[0]) + \" -- instances where covered surface is greater than total surface\")"
   ]
  },
  {
   "cell_type": "code",
   "execution_count": 15,
   "metadata": {},
   "outputs": [
    {
     "name": "stdout",
     "output_type": "stream",
     "text": [
      "missing values:\n"
     ]
    },
    {
     "data": {
      "text/plain": [
       "price_aprox_usd           7.697898\n",
       "surface_total_in_m2       7.312165\n",
       "surface_covered_in_m2    10.733453\n",
       "price_usd_per_m2         14.987701\n",
       "rooms                    25.050313\n",
       "dtype: float64"
      ]
     },
     "execution_count": 15,
     "metadata": {},
     "output_type": "execute_result"
    }
   ],
   "source": [
    "total = df_filt2.shape[0]\n",
    "print('missing values:')\n",
    "df_filt2.loc[:,'price_aprox_usd':'rooms'].isna().sum()*100/total"
   ]
  },
  {
   "cell_type": "code",
   "execution_count": 16,
   "metadata": {},
   "outputs": [
    {
     "name": "stdout",
     "output_type": "stream",
     "text": [
      "missing values for rooms? False\n"
     ]
    }
   ],
   "source": [
    "# It could be better if we assign mean to data grouped by neighborhood\n",
    "\n",
    "from sklearn.impute import SimpleImputer\n",
    "array_rooms = df_filt2['rooms'].values\n",
    "array_rooms = array_rooms.reshape(-1,1)\n",
    "imp_median = SimpleImputer(strategy='median')\n",
    "df_filt2['rooms'] = imp_median.fit_transform(array_rooms).round()\n",
    "print('missing values for rooms?', df_filt2['rooms'].isna().any())"
   ]
  },
  {
   "cell_type": "code",
   "execution_count": 17,
   "metadata": {},
   "outputs": [
    {
     "name": "stdout",
     "output_type": "stream",
     "text": [
      "missing values:\n"
     ]
    },
    {
     "data": {
      "text/plain": [
       "price_aprox_usd           7.697898\n",
       "surface_total_in_m2       7.312165\n",
       "surface_covered_in_m2    10.733453\n",
       "price_usd_per_m2         14.987701\n",
       "rooms                     0.000000\n",
       "dtype: float64"
      ]
     },
     "execution_count": 17,
     "metadata": {},
     "output_type": "execute_result"
    }
   ],
   "source": [
    "total = df_filt2.shape[0]\n",
    "print('missing values:')\n",
    "df_filt2.loc[:,'price_aprox_usd':'rooms'].isna().sum()*100/total"
   ]
  },
  {
   "cell_type": "code",
   "execution_count": 18,
   "metadata": {},
   "outputs": [
    {
     "name": "stdout",
     "output_type": "stream",
     "text": [
      "instances of set:  17888\n"
     ]
    }
   ],
   "source": [
    "print(\"instances of set: \",df_filt2.shape[0])"
   ]
  },
  {
   "cell_type": "code",
   "execution_count": 19,
   "metadata": {},
   "outputs": [],
   "source": [
    "df_dscrt1 = df_filt2[df_filt2['price_aprox_usd'].isna()]\n",
    "df_dscrt2 = df_filt2[df_filt2['surface_covered_in_m2'].isna()]\n",
    "df_dscrt3 = df_filt2[df_filt2['surface_total_in_m2'].isna()]\n",
    "df_dscrt = pd.concat([df_dscrt1, df_dscrt2, df_dscrt3]).sort_index().drop_duplicates()"
   ]
  },
  {
   "cell_type": "code",
   "execution_count": 20,
   "metadata": {
    "scrolled": true
   },
   "outputs": [
    {
     "name": "stdout",
     "output_type": "stream",
     "text": [
      "se descartaran 2393 instancias\n"
     ]
    }
   ],
   "source": [
    "dropped = df_dscrt.shape[0]\n",
    "print(\"se descartaran\", dropped, \"instancias\")"
   ]
  },
  {
   "cell_type": "code",
   "execution_count": 21,
   "metadata": {
    "scrolled": true
   },
   "outputs": [
    {
     "name": "stdout",
     "output_type": "stream",
     "text": [
      "instances of set:  15495\n"
     ]
    }
   ],
   "source": [
    "df_filt3 = df_filt2.dropna(subset=['surface_total_in_m2', 'price_aprox_usd','surface_covered_in_m2'])\n",
    "print(\"instances of set: \",df_filt3.shape[0])"
   ]
  },
  {
   "cell_type": "code",
   "execution_count": 22,
   "metadata": {},
   "outputs": [
    {
     "name": "stdout",
     "output_type": "stream",
     "text": [
      "missing values:\n"
     ]
    },
    {
     "data": {
      "text/plain": [
       "price_aprox_usd          0.000000\n",
       "surface_total_in_m2      0.000000\n",
       "surface_covered_in_m2    0.000000\n",
       "price_usd_per_m2         5.459826\n",
       "rooms                    0.000000\n",
       "dtype: float64"
      ]
     },
     "execution_count": 22,
     "metadata": {},
     "output_type": "execute_result"
    }
   ],
   "source": [
    "total = df_filt3.shape[0]\n",
    "print('missing values:')\n",
    "df_filt3.loc[:,'price_aprox_usd':'rooms'].isna().sum()*100/total"
   ]
  },
  {
   "cell_type": "code",
   "execution_count": 23,
   "metadata": {},
   "outputs": [
    {
     "data": {
      "text/plain": [
       "True"
      ]
     },
     "execution_count": 23,
     "metadata": {},
     "output_type": "execute_result"
    }
   ],
   "source": [
    "dropped + df_filt3.shape[0] == df_filt2.shape[0]"
   ]
  },
  {
   "cell_type": "code",
   "execution_count": 24,
   "metadata": {},
   "outputs": [],
   "source": [
    "values = {'price_usd_per_m2' : df_filt2['price_aprox_usd'] / df_filt2['surface_total_in_m2']}\n",
    "df_filt3 = df_filt3.fillna(value=values)"
   ]
  },
  {
   "cell_type": "code",
   "execution_count": 25,
   "metadata": {
    "scrolled": true
   },
   "outputs": [
    {
     "name": "stdout",
     "output_type": "stream",
     "text": [
      "Other columns with null values: []\n"
     ]
    }
   ],
   "source": [
    "# Another columns with null values\n",
    "faltan = df_filt3.columns[df_filt3.isna().any()]\n",
    "print(\"Other columns with null values:\", faltan.tolist())"
   ]
  },
  {
   "cell_type": "code",
   "execution_count": 26,
   "metadata": {},
   "outputs": [
    {
     "name": "stdout",
     "output_type": "stream",
     "text": [
      "missing values:\n"
     ]
    },
    {
     "data": {
      "text/plain": [
       "price_aprox_usd          0.0\n",
       "surface_total_in_m2      0.0\n",
       "surface_covered_in_m2    0.0\n",
       "price_usd_per_m2         0.0\n",
       "rooms                    0.0\n",
       "dtype: float64"
      ]
     },
     "execution_count": 26,
     "metadata": {},
     "output_type": "execute_result"
    }
   ],
   "source": [
    "total = df_filt3.shape[0]\n",
    "print('missing values:')\n",
    "df_filt3.loc[:,'price_aprox_usd':'rooms'].isna().sum()*100/total"
   ]
  },
  {
   "cell_type": "code",
   "execution_count": 27,
   "metadata": {},
   "outputs": [
    {
     "name": "stdout",
     "output_type": "stream",
     "text": [
      "El dataset final luego del procesamiento tiene 15495 observaciones\n"
     ]
    }
   ],
   "source": [
    "print(\"El dataset final luego del procesamiento tiene {} observaciones\".format(df_filt3.shape[0]))"
   ]
  },
  {
   "cell_type": "markdown",
   "metadata": {},
   "source": [
    "### Analyzing locations and prices"
   ]
  },
  {
   "cell_type": "code",
   "execution_count": 28,
   "metadata": {},
   "outputs": [],
   "source": [
    "df_filtered = df_filt3"
   ]
  },
  {
   "cell_type": "code",
   "execution_count": 29,
   "metadata": {},
   "outputs": [
    {
     "data": {
      "text/plain": [
       "lat         lon       \n",
       "-34.589546  -58.397364    151\n",
       "-34.571150  -58.423297    121\n",
       "-34.562084  -58.456686     82\n",
       "-34.620928  -58.445874     47\n",
       "-34.609821  -58.392606     43\n",
       "-34.608608  -58.448515     40\n",
       "-34.622973  -58.439913     38\n",
       "-34.603771  -58.381587     35\n",
       "-34.617719  -58.362056     32\n",
       "-34.612229  -58.408756     31\n",
       "dtype: int64"
      ]
     },
     "execution_count": 29,
     "metadata": {},
     "output_type": "execute_result"
    }
   ],
   "source": [
    "# checkinglocations\n",
    "\n",
    "conteo_puntos = df_filtered.groupby(['lat', 'lon']).size()\n",
    "conteo_puntos[conteo_puntos > 1].sort_values(ascending=False).head(10)"
   ]
  },
  {
   "cell_type": "code",
   "execution_count": 30,
   "metadata": {
    "scrolled": true
   },
   "outputs": [],
   "source": [
    "# to preserve accurate locations, dismiss those locations with more that 5 properties\n",
    "conteo_puntos.name = 'conteo'\n",
    "df_filtered = df_filtered.join(conteo_puntos, on=['lat', 'lon'])\n",
    "df_filtered = df_filtered[df_filtered.conteo <= 5]"
   ]
  },
  {
   "cell_type": "code",
   "execution_count": 31,
   "metadata": {},
   "outputs": [
    {
     "data": {
      "text/plain": [
       "13333"
      ]
     },
     "execution_count": 31,
     "metadata": {},
     "output_type": "execute_result"
    }
   ],
   "source": [
    "df_filtered.reset_index().shape[0]"
   ]
  },
  {
   "cell_type": "code",
   "execution_count": 32,
   "metadata": {},
   "outputs": [],
   "source": [
    "# removing 'count', which is not useful anymore\n",
    "\n",
    "df_filtered.drop('conteo', inplace=True, axis=1)"
   ]
  },
  {
   "cell_type": "code",
   "execution_count": 33,
   "metadata": {},
   "outputs": [
    {
     "name": "stdout",
     "output_type": "stream",
     "text": [
      "El dataset ahora tiene 13333 observaciones\n"
     ]
    }
   ],
   "source": [
    "print(\"El dataset ahora tiene {} observaciones\".format(df_filtered.shape[0]))"
   ]
  },
  {
   "cell_type": "code",
   "execution_count": 34,
   "metadata": {},
   "outputs": [],
   "source": [
    "total_propiedades = df_filtered.groupby('barrio')['property_type'].count().values"
   ]
  },
  {
   "cell_type": "code",
   "execution_count": 35,
   "metadata": {
    "scrolled": true
   },
   "outputs": [],
   "source": [
    "porcentaje_casas_ph = df_filtered[df_filtered.property_type.isin(['PH', 'house'])].groupby('barrio').count().property_type/total_propiedades\n",
    "porcentaje_edificios = df_filtered[df_filtered.property_type == 'apartment'].groupby('barrio').count().property_type/total_propiedades"
   ]
  },
  {
   "cell_type": "code",
   "execution_count": 36,
   "metadata": {
    "scrolled": true
   },
   "outputs": [
    {
     "name": "stdout",
     "output_type": "stream",
     "text": [
      "Barrios con mayor porcentaje de edificios: \n",
      " barrio\n",
      "PUERTO MADERO    0.991870\n",
      "SAN NICOLAS      0.983003\n",
      "RETIRO           0.982379\n",
      "RECOLETA         0.975728\n",
      "BELGRANO         0.928490\n",
      "Name: property_type, dtype: float64\n",
      "Barrios con mayor porcentaje de casas y phs: \n",
      "  barrio\n",
      "VILLA RIACHUELO      0.733333\n",
      "VERSALLES            0.656250\n",
      "MATADEROS            0.624060\n",
      "PARQUE AVELLANEDA    0.612245\n",
      "VILLA LUGANO         0.573034\n",
      "Name: property_type, dtype: float64\n"
     ]
    }
   ],
   "source": [
    "print(\"Barrios con mayor porcentaje de edificios: \\n\", porcentaje_edificios.sort_values()[::-1][:5])\n",
    "print(\"Barrios con mayor porcentaje de casas y phs: \\n \", porcentaje_casas_ph.sort_values()[::-1][:5])"
   ]
  },
  {
   "cell_type": "code",
   "execution_count": 37,
   "metadata": {},
   "outputs": [
    {
     "name": "stdout",
     "output_type": "stream",
     "text": [
      "The chart in the left shows the distribution of property types in the 5 neighborhoods with most apartments. These are:  ['PUERTO MADERO' 'SAN NICOLAS' 'RETIRO' 'RECOLETA' 'BELGRANO']\n",
      "\n",
      "The chart in the right shows the distribution of property types in the 5 nighborhoods with most houses. These are:  ['VILLA RIACHUELO' 'VERSALLES' 'MATADEROS' 'PARQUE AVELLANEDA'\n",
      " 'VILLA LUGANO']\n"
     ]
    },
    {
     "data": {
      "image/png": "[encoded data removed]",
      "text/plain": [
       "<Figure size 1008x504 with 2 Axes>"
      ]
     },
     "metadata": {},
     "output_type": "display_data"
    }
   ],
   "source": [
    "barrios_casas = porcentaje_casas_ph.sort_values()[::-1][:5].index\n",
    "barrios_edificios = porcentaje_edificios.sort_values()[::-1][:5].index\n",
    "fig, axs = plt.subplots(1,2,figsize=(14,7))\n",
    "df_filtered[df_filtered.barrio.isin(barrios_edificios)].property_type.value_counts().plot(x=None,y=None, kind='pie', startangle=30, ax=axs[0],autopct='%1.2f%%')\n",
    "df_filtered[df_filtered.barrio.isin(barrios_casas)].property_type.value_counts().plot(x=None,y=None, kind='pie', ax=axs[1],autopct='%1.2f%%')\n",
    "print(\"The chart in the left shows the distribution of property types in the 5 neighborhoods with most apartments. These are: \", barrios_edificios.values)\n",
    "print()\n",
    "print(\"The chart in the right shows the distribution of property types in the 5 nighborhoods with most houses. These are: \", barrios_casas.values)"
   ]
  },
  {
   "cell_type": "code",
   "execution_count": 38,
   "metadata": {
    "scrolled": true
   },
   "outputs": [
    {
     "data": {
      "text/plain": [
       "count     13333.000000\n",
       "mean       3115.342401\n",
       "std       11566.127306\n",
       "min           0.958333\n",
       "25%        1960.784314\n",
       "50%        2513.513514\n",
       "75%        3139.534884\n",
       "max      560000.000000\n",
       "Name: price_usd_per_m2, dtype: float64"
      ]
     },
     "execution_count": 38,
     "metadata": {},
     "output_type": "execute_result"
    }
   ],
   "source": [
    "# removing outliers\n",
    "\n",
    "df_filtered['price_usd_per_m2'].describe()"
   ]
  },
  {
   "cell_type": "code",
   "execution_count": 39,
   "metadata": {},
   "outputs": [
    {
     "name": "stdout",
     "output_type": "stream",
     "text": [
      "Property with minimum value per m_2: \n"
     ]
    },
    {
     "data": {
      "text/html": [
       "<div>\n",
       "<style scoped>\n",
       "    .dataframe tbody tr th:only-of-type {\n",
       "        vertical-align: middle;\n",
       "    }\n",
       "\n",
       "    .dataframe tbody tr th {\n",
       "        vertical-align: top;\n",
       "    }\n",
       "\n",
       "    .dataframe thead th {\n",
       "        text-align: right;\n",
       "    }\n",
       "</style>\n",
       "<table border=\"1\" class=\"dataframe\">\n",
       "  <thead>\n",
       "    <tr style=\"text-align: right;\">\n",
       "      <th></th>\n",
       "      <th>created_on</th>\n",
       "      <th>operation</th>\n",
       "      <th>property_type</th>\n",
       "      <th>place_with_parent_names</th>\n",
       "      <th>lat-lon</th>\n",
       "      <th>lat</th>\n",
       "      <th>lon</th>\n",
       "      <th>price_aprox_usd</th>\n",
       "      <th>surface_total_in_m2</th>\n",
       "      <th>surface_covered_in_m2</th>\n",
       "      <th>price_usd_per_m2</th>\n",
       "      <th>rooms</th>\n",
       "      <th>properati_url</th>\n",
       "      <th>barrio</th>\n",
       "      <th>comuna</th>\n",
       "    </tr>\n",
       "  </thead>\n",
       "  <tbody>\n",
       "    <tr>\n",
       "      <th>17439</th>\n",
       "      <td>2017-12-17</td>\n",
       "      <td>sell</td>\n",
       "      <td>PH</td>\n",
       "      <td>|Argentina|Capital Federal|Parque Avellaneda|</td>\n",
       "      <td>-34.650879,-58.473852</td>\n",
       "      <td>-34.650879</td>\n",
       "      <td>-58.473852</td>\n",
       "      <td>115000.0</td>\n",
       "      <td>120000.0</td>\n",
       "      <td>120000.0</td>\n",
       "      <td>0.958333</td>\n",
       "      <td>4.0</td>\n",
       "      <td>https://www.properati.com.ar/1j22w_venta_ph_parque-avellaneda_re-max-parque</td>\n",
       "      <td>PARQUE AVELLANEDA</td>\n",
       "      <td>9.0</td>\n",
       "    </tr>\n",
       "  </tbody>\n",
       "</table>\n",
       "</div>"
      ],
      "text/plain": [
       "      created_on operation property_type  \\\n",
       "17439 2017-12-17      sell            PH   \n",
       "\n",
       "                             place_with_parent_names                lat-lon  \\\n",
       "17439  |Argentina|Capital Federal|Parque Avellaneda|  -34.650879,-58.473852   \n",
       "\n",
       "             lat        lon  price_aprox_usd  surface_total_in_m2  \\\n",
       "17439 -34.650879 -58.473852         115000.0             120000.0   \n",
       "\n",
       "       surface_covered_in_m2  price_usd_per_m2  rooms  \\\n",
       "17439               120000.0          0.958333    4.0   \n",
       "\n",
       "                                                                     properati_url  \\\n",
       "17439  https://www.properati.com.ar/1j22w_venta_ph_parque-avellaneda_re-max-parque   \n",
       "\n",
       "                  barrio  comuna  \n",
       "17439  PARQUE AVELLANEDA     9.0  "
      ]
     },
     "execution_count": 39,
     "metadata": {},
     "output_type": "execute_result"
    }
   ],
   "source": [
    "minim = df_filtered[df_filtered.price_usd_per_m2 == df_filtered.price_usd_per_m2.min()]\n",
    "print(\"Property with minimum value per m_2: \")\n",
    "minim"
   ]
  },
  {
   "cell_type": "code",
   "execution_count": 40,
   "metadata": {},
   "outputs": [
    {
     "name": "stdout",
     "output_type": "stream",
     "text": [
      "Property with maximum value per m_2: \n"
     ]
    },
    {
     "data": {
      "text/html": [
       "<div>\n",
       "<style scoped>\n",
       "    .dataframe tbody tr th:only-of-type {\n",
       "        vertical-align: middle;\n",
       "    }\n",
       "\n",
       "    .dataframe tbody tr th {\n",
       "        vertical-align: top;\n",
       "    }\n",
       "\n",
       "    .dataframe thead th {\n",
       "        text-align: right;\n",
       "    }\n",
       "</style>\n",
       "<table border=\"1\" class=\"dataframe\">\n",
       "  <thead>\n",
       "    <tr style=\"text-align: right;\">\n",
       "      <th></th>\n",
       "      <th>created_on</th>\n",
       "      <th>operation</th>\n",
       "      <th>property_type</th>\n",
       "      <th>place_with_parent_names</th>\n",
       "      <th>lat-lon</th>\n",
       "      <th>lat</th>\n",
       "      <th>lon</th>\n",
       "      <th>price_aprox_usd</th>\n",
       "      <th>surface_total_in_m2</th>\n",
       "      <th>surface_covered_in_m2</th>\n",
       "      <th>price_usd_per_m2</th>\n",
       "      <th>rooms</th>\n",
       "      <th>properati_url</th>\n",
       "      <th>barrio</th>\n",
       "      <th>comuna</th>\n",
       "    </tr>\n",
       "  </thead>\n",
       "  <tbody>\n",
       "    <tr>\n",
       "      <th>18319</th>\n",
       "      <td>2018-01-26</td>\n",
       "      <td>sell</td>\n",
       "      <td>house</td>\n",
       "      <td>|Argentina|Capital Federal|Villa Urquiza|</td>\n",
       "      <td>-34.5837988748,-58.4745744517</td>\n",
       "      <td>-34.583799</td>\n",
       "      <td>-58.474574</td>\n",
       "      <td>560000.0</td>\n",
       "      <td>1.0</td>\n",
       "      <td>1.0</td>\n",
       "      <td>560000.0</td>\n",
       "      <td>3.0</td>\n",
       "      <td>https://www.properati.com.ar/1k4y1_venta_casa_villa-urquiza_jardin_lavadero_parrilla_garage_subte-linea-b_valjor</td>\n",
       "      <td>PARQUE CHAS</td>\n",
       "      <td>15.0</td>\n",
       "    </tr>\n",
       "  </tbody>\n",
       "</table>\n",
       "</div>"
      ],
      "text/plain": [
       "      created_on operation property_type  \\\n",
       "18319 2018-01-26      sell         house   \n",
       "\n",
       "                         place_with_parent_names  \\\n",
       "18319  |Argentina|Capital Federal|Villa Urquiza|   \n",
       "\n",
       "                             lat-lon        lat        lon  price_aprox_usd  \\\n",
       "18319  -34.5837988748,-58.4745744517 -34.583799 -58.474574         560000.0   \n",
       "\n",
       "       surface_total_in_m2  surface_covered_in_m2  price_usd_per_m2  rooms  \\\n",
       "18319                  1.0                    1.0          560000.0    3.0   \n",
       "\n",
       "                                                                                                          properati_url  \\\n",
       "18319  https://www.properati.com.ar/1k4y1_venta_casa_villa-urquiza_jardin_lavadero_parrilla_garage_subte-linea-b_valjor   \n",
       "\n",
       "            barrio  comuna  \n",
       "18319  PARQUE CHAS    15.0  "
      ]
     },
     "execution_count": 40,
     "metadata": {},
     "output_type": "execute_result"
    }
   ],
   "source": [
    "maxim = df_filtered[df_filtered.price_usd_per_m2 == df_filtered.price_usd_per_m2.max()]\n",
    "print(\"Property with maximum value per m_2: \")\n",
    "\n",
    "maxim"
   ]
  },
  {
   "cell_type": "code",
   "execution_count": 41,
   "metadata": {},
   "outputs": [
    {
     "data": {
      "image/png": "[encoded data removed]",
      "text/plain": [
       "<Figure size 720x504 with 1 Axes>"
      ]
     },
     "metadata": {
      "needs_background": "light"
     },
     "output_type": "display_data"
    }
   ],
   "source": [
    "import matplotlib.pyplot as plt\n",
    "\n",
    "plt.figure(figsize=(10,7))\n",
    "sns.distplot(df_filtered['price_usd_per_m2'].dropna(),hist=False)\n",
    "plt.show()"
   ]
  },
  {
   "cell_type": "code",
   "execution_count": 42,
   "metadata": {},
   "outputs": [
    {
     "data": {
      "image/png": "[encoded data removed]",
      "text/plain": [
       "<Figure size 720x504 with 1 Axes>"
      ]
     },
     "metadata": {
      "needs_background": "light"
     },
     "output_type": "display_data"
    }
   ],
   "source": [
    "plt.figure(figsize=(10,7))\n",
    "sns.boxplot(df_filtered['price_usd_per_m2'])\n",
    "plt.show()"
   ]
  },
  {
   "cell_type": "code",
   "execution_count": 43,
   "metadata": {},
   "outputs": [
    {
     "data": {
      "text/html": [
       "<div>\n",
       "<style scoped>\n",
       "    .dataframe tbody tr th:only-of-type {\n",
       "        vertical-align: middle;\n",
       "    }\n",
       "\n",
       "    .dataframe tbody tr th {\n",
       "        vertical-align: top;\n",
       "    }\n",
       "\n",
       "    .dataframe thead th {\n",
       "        text-align: right;\n",
       "    }\n",
       "</style>\n",
       "<table border=\"1\" class=\"dataframe\">\n",
       "  <thead>\n",
       "    <tr style=\"text-align: right;\">\n",
       "      <th></th>\n",
       "      <th>created_on</th>\n",
       "      <th>operation</th>\n",
       "      <th>property_type</th>\n",
       "      <th>place_with_parent_names</th>\n",
       "      <th>lat-lon</th>\n",
       "      <th>lat</th>\n",
       "      <th>lon</th>\n",
       "      <th>price_aprox_usd</th>\n",
       "      <th>surface_total_in_m2</th>\n",
       "      <th>surface_covered_in_m2</th>\n",
       "      <th>price_usd_per_m2</th>\n",
       "      <th>rooms</th>\n",
       "      <th>properati_url</th>\n",
       "      <th>barrio</th>\n",
       "      <th>comuna</th>\n",
       "    </tr>\n",
       "  </thead>\n",
       "  <tbody>\n",
       "    <tr>\n",
       "      <th>18</th>\n",
       "      <td>2017-08-29</td>\n",
       "      <td>sell</td>\n",
       "      <td>apartment</td>\n",
       "      <td>|Argentina|Capital Federal|Palermo|</td>\n",
       "      <td>-34.588912403,-58.4134942185</td>\n",
       "      <td>-34.588912</td>\n",
       "      <td>-58.413494</td>\n",
       "      <td>340000.0</td>\n",
       "      <td>130.0</td>\n",
       "      <td>120.0</td>\n",
       "      <td>2615.384615</td>\n",
       "      <td>4.0</td>\n",
       "      <td>https://www.properati.com.ar/1dzv6_venta_departamento_palermo_guemes_3600_balcon_suite_jardin_lavadero_luminoso_lujoso_dependencias_placard_doble-circulacion_subte-linea-d_luisio-propiedades-suc-virrey-del-pino-2378</td>\n",
       "      <td>PALERMO</td>\n",
       "      <td>14.0</td>\n",
       "    </tr>\n",
       "    <tr>\n",
       "      <th>19</th>\n",
       "      <td>2017-08-29</td>\n",
       "      <td>sell</td>\n",
       "      <td>apartment</td>\n",
       "      <td>|Argentina|Capital Federal|Palermo|</td>\n",
       "      <td>-34.5770327,-58.4233675</td>\n",
       "      <td>-34.577033</td>\n",
       "      <td>-58.423368</td>\n",
       "      <td>222000.0</td>\n",
       "      <td>52.0</td>\n",
       "      <td>48.0</td>\n",
       "      <td>4269.230769</td>\n",
       "      <td>1.0</td>\n",
       "      <td>https://www.properati.com.ar/1e05k_venta_departamento_palermo_juncal-al-4500_gimnasio_jardin_lavadero_parrilla_piscina_sum_aire-acondicionado_subte-linea-h_subte-linea-c_deptos-temporarios</td>\n",
       "      <td>PALERMO</td>\n",
       "      <td>14.0</td>\n",
       "    </tr>\n",
       "    <tr>\n",
       "      <th>20</th>\n",
       "      <td>2017-08-29</td>\n",
       "      <td>sell</td>\n",
       "      <td>apartment</td>\n",
       "      <td>|Argentina|Capital Federal|Palermo|</td>\n",
       "      <td>-34.5950139,-58.4273915</td>\n",
       "      <td>-34.595014</td>\n",
       "      <td>-58.427392</td>\n",
       "      <td>180000.0</td>\n",
       "      <td>70.0</td>\n",
       "      <td>70.0</td>\n",
       "      <td>2571.428571</td>\n",
       "      <td>3.0</td>\n",
       "      <td>https://www.properati.com.ar/1e0mq_venta_departamento_palermo_julian-alvarez-al-1200_lavadero_amoblado_sanchez-carrizo-real-estate</td>\n",
       "      <td>PALERMO</td>\n",
       "      <td>14.0</td>\n",
       "    </tr>\n",
       "    <tr>\n",
       "      <th>22</th>\n",
       "      <td>2017-08-30</td>\n",
       "      <td>sell</td>\n",
       "      <td>house</td>\n",
       "      <td>|Argentina|Capital Federal|Palermo|Palermo Hollywood|</td>\n",
       "      <td>-34.5793535,-58.4364489</td>\n",
       "      <td>-34.579354</td>\n",
       "      <td>-58.436449</td>\n",
       "      <td>1200000.0</td>\n",
       "      <td>532.0</td>\n",
       "      <td>334.0</td>\n",
       "      <td>2255.639098</td>\n",
       "      <td>6.0</td>\n",
       "      <td>https://www.properati.com.ar/1e1ve_venta_casa_palermo-hollywood_jardin_lavadero_piscina_luminoso_vista_garage_nexo-propiedades_h0z</td>\n",
       "      <td>PALERMO</td>\n",
       "      <td>14.0</td>\n",
       "    </tr>\n",
       "    <tr>\n",
       "      <th>24</th>\n",
       "      <td>2017-08-30</td>\n",
       "      <td>sell</td>\n",
       "      <td>apartment</td>\n",
       "      <td>|Argentina|Capital Federal|Palermo|Palermo Hollywood|</td>\n",
       "      <td>-34.5809281,-58.4404321</td>\n",
       "      <td>-34.580928</td>\n",
       "      <td>-58.440432</td>\n",
       "      <td>270000.0</td>\n",
       "      <td>67.0</td>\n",
       "      <td>64.0</td>\n",
       "      <td>4029.850746</td>\n",
       "      <td>3.0</td>\n",
       "      <td>https://www.properati.com.ar/1e1x0_venta_departamento_palermo-hollywood_arevalo_1700_balcon_toilette_luminoso_apto-credito-hipotecario_yankel-group</td>\n",
       "      <td>PALERMO</td>\n",
       "      <td>14.0</td>\n",
       "    </tr>\n",
       "  </tbody>\n",
       "</table>\n",
       "</div>"
      ],
      "text/plain": [
       "   created_on operation property_type  \\\n",
       "18 2017-08-29      sell     apartment   \n",
       "19 2017-08-29      sell     apartment   \n",
       "20 2017-08-29      sell     apartment   \n",
       "22 2017-08-30      sell         house   \n",
       "24 2017-08-30      sell     apartment   \n",
       "\n",
       "                                  place_with_parent_names  \\\n",
       "18                    |Argentina|Capital Federal|Palermo|   \n",
       "19                    |Argentina|Capital Federal|Palermo|   \n",
       "20                    |Argentina|Capital Federal|Palermo|   \n",
       "22  |Argentina|Capital Federal|Palermo|Palermo Hollywood|   \n",
       "24  |Argentina|Capital Federal|Palermo|Palermo Hollywood|   \n",
       "\n",
       "                         lat-lon        lat        lon  price_aprox_usd  \\\n",
       "18  -34.588912403,-58.4134942185 -34.588912 -58.413494         340000.0   \n",
       "19       -34.5770327,-58.4233675 -34.577033 -58.423368         222000.0   \n",
       "20       -34.5950139,-58.4273915 -34.595014 -58.427392         180000.0   \n",
       "22       -34.5793535,-58.4364489 -34.579354 -58.436449        1200000.0   \n",
       "24       -34.5809281,-58.4404321 -34.580928 -58.440432         270000.0   \n",
       "\n",
       "    surface_total_in_m2  surface_covered_in_m2  price_usd_per_m2  rooms  \\\n",
       "18                130.0                  120.0       2615.384615    4.0   \n",
       "19                 52.0                   48.0       4269.230769    1.0   \n",
       "20                 70.0                   70.0       2571.428571    3.0   \n",
       "22                532.0                  334.0       2255.639098    6.0   \n",
       "24                 67.0                   64.0       4029.850746    3.0   \n",
       "\n",
       "                                                                                                                                                                                                              properati_url  \\\n",
       "18  https://www.properati.com.ar/1dzv6_venta_departamento_palermo_guemes_3600_balcon_suite_jardin_lavadero_luminoso_lujoso_dependencias_placard_doble-circulacion_subte-linea-d_luisio-propiedades-suc-virrey-del-pino-2378   \n",
       "19                             https://www.properati.com.ar/1e05k_venta_departamento_palermo_juncal-al-4500_gimnasio_jardin_lavadero_parrilla_piscina_sum_aire-acondicionado_subte-linea-h_subte-linea-c_deptos-temporarios   \n",
       "20                                                                                       https://www.properati.com.ar/1e0mq_venta_departamento_palermo_julian-alvarez-al-1200_lavadero_amoblado_sanchez-carrizo-real-estate   \n",
       "22                                                                                       https://www.properati.com.ar/1e1ve_venta_casa_palermo-hollywood_jardin_lavadero_piscina_luminoso_vista_garage_nexo-propiedades_h0z   \n",
       "24                                                                      https://www.properati.com.ar/1e1x0_venta_departamento_palermo-hollywood_arevalo_1700_balcon_toilette_luminoso_apto-credito-hipotecario_yankel-group   \n",
       "\n",
       "     barrio  comuna  \n",
       "18  PALERMO    14.0  \n",
       "19  PALERMO    14.0  \n",
       "20  PALERMO    14.0  \n",
       "22  PALERMO    14.0  \n",
       "24  PALERMO    14.0  "
      ]
     },
     "execution_count": 43,
     "metadata": {},
     "output_type": "execute_result"
    }
   ],
   "source": [
    "# First quartile, Thirst quartile and interquartile range\n",
    "\n",
    "p25 = df_filtered['price_usd_per_m2'].quantile(0.25)\n",
    "p75 = df_filtered['price_usd_per_m2'].quantile(0.75)\n",
    "IQR=p75-p25\n",
    "df_iqr = df_filtered[(df_filtered['price_usd_per_m2'] >= p25-1*IQR) & (df_filtered['price_usd_per_m2'] <= p75+1*IQR)]\n",
    "df_iqr.head()"
   ]
  },
  {
   "cell_type": "code",
   "execution_count": 44,
   "metadata": {},
   "outputs": [
    {
     "data": {
      "text/plain": [
       "<matplotlib.axes._subplots.AxesSubplot at 0x7fdbdeddfd10>"
      ]
     },
     "execution_count": 44,
     "metadata": {},
     "output_type": "execute_result"
    },
    {
     "data": {
      "image/png": "[encoded data removed]",
      "text/plain": [
       "<Figure size 864x576 with 1 Axes>"
      ]
     },
     "metadata": {
      "needs_background": "light"
     },
     "output_type": "display_data"
    }
   ],
   "source": [
    "sns.distplot(df_iqr['price_usd_per_m2'])"
   ]
  },
  {
   "cell_type": "code",
   "execution_count": 45,
   "metadata": {},
   "outputs": [
    {
     "data": {
      "text/plain": [
       "<matplotlib.axes._subplots.AxesSubplot at 0x7fdbded1f490>"
      ]
     },
     "execution_count": 45,
     "metadata": {},
     "output_type": "execute_result"
    },
    {
     "data": {
      "image/png": "[encoded data removed]",
      "text/plain": [
       "<Figure size 864x576 with 1 Axes>"
      ]
     },
     "metadata": {
      "needs_background": "light"
     },
     "output_type": "display_data"
    }
   ],
   "source": [
    "sns.boxplot(df_iqr['price_usd_per_m2'])"
   ]
  },
  {
   "cell_type": "code",
   "execution_count": 46,
   "metadata": {},
   "outputs": [
    {
     "data": {
      "text/plain": [
       "count    12120.000000\n",
       "mean      2468.789159\n",
       "std        749.997918\n",
       "min        783.333333\n",
       "25%       1938.456633\n",
       "50%       2449.127477\n",
       "75%       2983.976524\n",
       "max       4318.181818\n",
       "Name: price_usd_per_m2, dtype: float64"
      ]
     },
     "execution_count": 46,
     "metadata": {},
     "output_type": "execute_result"
    }
   ],
   "source": [
    "df_iqr['price_usd_per_m2'].describe()"
   ]
  },
  {
   "cell_type": "code",
   "execution_count": 47,
   "metadata": {},
   "outputs": [
    {
     "data": {
      "image/png": "[encoded data removed]",
      "text/plain": [
       "<Figure size 864x576 with 1 Axes>"
      ]
     },
     "metadata": {
      "needs_background": "light"
     },
     "output_type": "display_data"
    }
   ],
   "source": [
    "# Charts with neighborhoods X price per m2\n",
    "\n",
    "plt.xticks(rotation = 90)\n",
    "barrios = df_iqr.groupby('barrio').mean().sort_values('price_usd_per_m2', ascending=False).index\n",
    "sns.barplot(x=\"barrio\", y=\"price_usd_per_m2\", order=barrios, data=df_iqr);"
   ]
  },
  {
   "cell_type": "code",
   "execution_count": 48,
   "metadata": {},
   "outputs": [
    {
     "name": "stdout",
     "output_type": "stream",
     "text": [
      "Most expensive neighborhoods are:\n"
     ]
    },
    {
     "data": {
      "text/html": [
       "<div>\n",
       "<style scoped>\n",
       "    .dataframe tbody tr th:only-of-type {\n",
       "        vertical-align: middle;\n",
       "    }\n",
       "\n",
       "    .dataframe tbody tr th {\n",
       "        vertical-align: top;\n",
       "    }\n",
       "\n",
       "    .dataframe thead th {\n",
       "        text-align: right;\n",
       "    }\n",
       "</style>\n",
       "<table border=\"1\" class=\"dataframe\">\n",
       "  <thead>\n",
       "    <tr style=\"text-align: right;\">\n",
       "      <th></th>\n",
       "      <th>price_usd_per_m2</th>\n",
       "    </tr>\n",
       "    <tr>\n",
       "      <th>barrio</th>\n",
       "      <th></th>\n",
       "    </tr>\n",
       "  </thead>\n",
       "  <tbody>\n",
       "    <tr>\n",
       "      <th>PUERTO MADERO</th>\n",
       "      <td>3916.248550</td>\n",
       "    </tr>\n",
       "    <tr>\n",
       "      <th>PALERMO</th>\n",
       "      <td>3115.571836</td>\n",
       "    </tr>\n",
       "    <tr>\n",
       "      <th>RECOLETA</th>\n",
       "      <td>3011.314097</td>\n",
       "    </tr>\n",
       "    <tr>\n",
       "      <th>BELGRANO</th>\n",
       "      <td>2988.065846</td>\n",
       "    </tr>\n",
       "    <tr>\n",
       "      <th>RETIRO</th>\n",
       "      <td>2946.152791</td>\n",
       "    </tr>\n",
       "  </tbody>\n",
       "</table>\n",
       "</div>"
      ],
      "text/plain": [
       "               price_usd_per_m2\n",
       "barrio                         \n",
       "PUERTO MADERO       3916.248550\n",
       "PALERMO             3115.571836\n",
       "RECOLETA            3011.314097\n",
       "BELGRANO            2988.065846\n",
       "RETIRO              2946.152791"
      ]
     },
     "execution_count": 48,
     "metadata": {},
     "output_type": "execute_result"
    }
   ],
   "source": [
    "table = pd.pivot_table(df_iqr, values='price_usd_per_m2', index=['barrio'], aggfunc=np.mean)\n",
    "mas_caros = table.sort_values('price_usd_per_m2', ascending=False).iloc[:5]\n",
    "print(\"Most expensive neighborhoods are:\")\n",
    "mas_caros"
   ]
  },
  {
   "cell_type": "code",
   "execution_count": 49,
   "metadata": {},
   "outputs": [
    {
     "name": "stdout",
     "output_type": "stream",
     "text": [
      "Cheapest neighborhoods are:\n"
     ]
    },
    {
     "data": {
      "text/html": [
       "<div>\n",
       "<style scoped>\n",
       "    .dataframe tbody tr th:only-of-type {\n",
       "        vertical-align: middle;\n",
       "    }\n",
       "\n",
       "    .dataframe tbody tr th {\n",
       "        vertical-align: top;\n",
       "    }\n",
       "\n",
       "    .dataframe thead th {\n",
       "        text-align: right;\n",
       "    }\n",
       "</style>\n",
       "<table border=\"1\" class=\"dataframe\">\n",
       "  <thead>\n",
       "    <tr style=\"text-align: right;\">\n",
       "      <th></th>\n",
       "      <th>price_usd_per_m2</th>\n",
       "    </tr>\n",
       "    <tr>\n",
       "      <th>barrio</th>\n",
       "      <th></th>\n",
       "    </tr>\n",
       "  </thead>\n",
       "  <tbody>\n",
       "    <tr>\n",
       "      <th>VILLA SOLDATI</th>\n",
       "      <td>1197.263649</td>\n",
       "    </tr>\n",
       "    <tr>\n",
       "      <th>VILLA RIACHUELO</th>\n",
       "      <td>1371.305579</td>\n",
       "    </tr>\n",
       "    <tr>\n",
       "      <th>VILLA LUGANO</th>\n",
       "      <td>1384.627031</td>\n",
       "    </tr>\n",
       "    <tr>\n",
       "      <th>NUEVA POMPEYA</th>\n",
       "      <td>1511.062413</td>\n",
       "    </tr>\n",
       "    <tr>\n",
       "      <th>PARQUE AVELLANEDA</th>\n",
       "      <td>1512.337211</td>\n",
       "    </tr>\n",
       "  </tbody>\n",
       "</table>\n",
       "</div>"
      ],
      "text/plain": [
       "                   price_usd_per_m2\n",
       "barrio                             \n",
       "VILLA SOLDATI           1197.263649\n",
       "VILLA RIACHUELO         1371.305579\n",
       "VILLA LUGANO            1384.627031\n",
       "NUEVA POMPEYA           1511.062413\n",
       "PARQUE AVELLANEDA       1512.337211"
      ]
     },
     "execution_count": 49,
     "metadata": {},
     "output_type": "execute_result"
    }
   ],
   "source": [
    "table = pd.pivot_table(df_iqr, values='price_usd_per_m2', index=['barrio'], aggfunc=np.mean)\n",
    "mas_baratos = table.sort_values('price_usd_per_m2', ascending=True).iloc[:5]\n",
    "print(\"Cheapest neighborhoods are:\")\n",
    "mas_baratos"
   ]
  },
  {
   "cell_type": "markdown",
   "metadata": {},
   "source": [
    "### Carts for: \n",
    "\n",
    "- Total surface\n",
    "- Rooms\n",
    "- Price per m2"
   ]
  },
  {
   "cell_type": "code",
   "execution_count": 50,
   "metadata": {},
   "outputs": [],
   "source": [
    "barrios_caros = mas_caros.index \n",
    "barrios_baratos = mas_baratos.index"
   ]
  },
  {
   "cell_type": "code",
   "execution_count": 51,
   "metadata": {},
   "outputs": [
    {
     "data": {
      "text/plain": [
       "<matplotlib.legend.Legend at 0x7fdbdede8cd0>"
      ]
     },
     "execution_count": 51,
     "metadata": {},
     "output_type": "execute_result"
    },
    {
     "data": {
      "image/png": "[encoded data removed]",
      "text/plain": [
       "<Figure size 864x576 with 1 Axes>"
      ]
     },
     "metadata": {
      "needs_background": "light"
     },
     "output_type": "display_data"
    }
   ],
   "source": [
    "# Plot with distributions of total surface in m2 in cheapest and most expensive neighborhoods\n",
    "\n",
    "g = sns.distplot(df_iqr[df_iqr.barrio.isin(barrios_baratos)].surface_total_in_m2, label=\"Barrios baratos\",hist=False)\n",
    "sns.distplot(df_iqr[df_iqr.barrio.isin(barrios_caros)].surface_total_in_m2, label=\"Barrios caros\",hist=False)\n",
    "g.set_xlim(0, 400)\n",
    "plt.legend()"
   ]
  },
  {
   "cell_type": "code",
   "execution_count": 52,
   "metadata": {},
   "outputs": [
    {
     "data": {
      "text/plain": [
       "<matplotlib.legend.Legend at 0x7fdbdeab6c10>"
      ]
     },
     "execution_count": 52,
     "metadata": {},
     "output_type": "execute_result"
    },
    {
     "data": {
      "image/png": "[encoded data removed]",
      "text/plain": [
       "<Figure size 864x576 with 1 Axes>"
      ]
     },
     "metadata": {
      "needs_background": "light"
     },
     "output_type": "display_data"
    }
   ],
   "source": [
    "# Plot with distributions of rooms per property in cheapest and most expensive neighborhoods\n",
    "\n",
    "g = sns.distplot(df_iqr[df_iqr.barrio.isin(barrios_baratos)].rooms, label=\"Barrios baratos\")\n",
    "sns.distplot(df_iqr[df_iqr.barrio.isin(barrios_caros)].rooms, label=\"Barrios caros\")\n",
    "g.set_xlim(0, 10)\n",
    "plt.legend()"
   ]
  },
  {
   "cell_type": "code",
   "execution_count": 53,
   "metadata": {},
   "outputs": [
    {
     "data": {
      "text/plain": [
       "<matplotlib.legend.Legend at 0x7fdbdeed4d50>"
      ]
     },
     "execution_count": 53,
     "metadata": {},
     "output_type": "execute_result"
    },
    {
     "data": {
      "image/png": "[encoded data removed]",
      "text/plain": [
       "<Figure size 864x576 with 1 Axes>"
      ]
     },
     "metadata": {
      "needs_background": "light"
     },
     "output_type": "display_data"
    }
   ],
   "source": [
    "# Plot with distributions of price_usd_per_m2 in cheapest and most expensive neighborhoods\n",
    "\n",
    "g = sns.distplot(df_iqr[df_iqr.barrio.isin(barrios_baratos)].price_usd_per_m2, label=\"Barrios baratos\")\n",
    "sns.distplot(df_iqr[df_iqr.barrio.isin(barrios_caros)].price_usd_per_m2, label=\"Barrios caros\")\n",
    "plt.legend()"
   ]
  },
  {
   "cell_type": "code",
   "execution_count": 54,
   "metadata": {},
   "outputs": [
    {
     "data": {
      "text/plain": [
       "array([5, 6, 4])"
      ]
     },
     "execution_count": 54,
     "metadata": {},
     "output_type": "execute_result"
    }
   ],
   "source": [
    "# Comparing published neighborhoods and real neighborhoods\n",
    "\n",
    "df_iqr['place_with_parent_names'].apply(lambda x: len(x.split(\"|\"))).unique()"
   ]
  },
  {
   "cell_type": "code",
   "execution_count": 55,
   "metadata": {},
   "outputs": [
    {
     "data": {
      "text/html": [
       "<div>\n",
       "<style scoped>\n",
       "    .dataframe tbody tr th:only-of-type {\n",
       "        vertical-align: middle;\n",
       "    }\n",
       "\n",
       "    .dataframe tbody tr th {\n",
       "        vertical-align: top;\n",
       "    }\n",
       "\n",
       "    .dataframe thead th {\n",
       "        text-align: right;\n",
       "    }\n",
       "</style>\n",
       "<table border=\"1\" class=\"dataframe\">\n",
       "  <thead>\n",
       "    <tr style=\"text-align: right;\">\n",
       "      <th></th>\n",
       "      <th>created_on</th>\n",
       "      <th>operation</th>\n",
       "      <th>property_type</th>\n",
       "      <th>place_with_parent_names</th>\n",
       "      <th>lat-lon</th>\n",
       "      <th>lat</th>\n",
       "      <th>lon</th>\n",
       "      <th>price_aprox_usd</th>\n",
       "      <th>surface_total_in_m2</th>\n",
       "      <th>surface_covered_in_m2</th>\n",
       "      <th>price_usd_per_m2</th>\n",
       "      <th>rooms</th>\n",
       "      <th>properati_url</th>\n",
       "      <th>barrio</th>\n",
       "      <th>comuna</th>\n",
       "    </tr>\n",
       "  </thead>\n",
       "  <tbody>\n",
       "    <tr>\n",
       "      <th>18</th>\n",
       "      <td>2017-08-29</td>\n",
       "      <td>sell</td>\n",
       "      <td>apartment</td>\n",
       "      <td>|Argentina|Capital Federal|Palermo|</td>\n",
       "      <td>-34.588912403,-58.4134942185</td>\n",
       "      <td>-34.588912</td>\n",
       "      <td>-58.413494</td>\n",
       "      <td>340000.00</td>\n",
       "      <td>130.0</td>\n",
       "      <td>120.0</td>\n",
       "      <td>2615.384615</td>\n",
       "      <td>4.0</td>\n",
       "      <td>https://www.properati.com.ar/1dzv6_venta_departamento_palermo_guemes_3600_balcon_suite_jardin_lavadero_luminoso_lujoso_dependencias_placard_doble-circulacion_subte-linea-d_luisio-propiedades-suc-virrey-del-pino-2378</td>\n",
       "      <td>PALERMO</td>\n",
       "      <td>14.0</td>\n",
       "    </tr>\n",
       "    <tr>\n",
       "      <th>19</th>\n",
       "      <td>2017-08-29</td>\n",
       "      <td>sell</td>\n",
       "      <td>apartment</td>\n",
       "      <td>|Argentina|Capital Federal|Palermo|</td>\n",
       "      <td>-34.5770327,-58.4233675</td>\n",
       "      <td>-34.577033</td>\n",
       "      <td>-58.423368</td>\n",
       "      <td>222000.00</td>\n",
       "      <td>52.0</td>\n",
       "      <td>48.0</td>\n",
       "      <td>4269.230769</td>\n",
       "      <td>1.0</td>\n",
       "      <td>https://www.properati.com.ar/1e05k_venta_departamento_palermo_juncal-al-4500_gimnasio_jardin_lavadero_parrilla_piscina_sum_aire-acondicionado_subte-linea-h_subte-linea-c_deptos-temporarios</td>\n",
       "      <td>PALERMO</td>\n",
       "      <td>14.0</td>\n",
       "    </tr>\n",
       "    <tr>\n",
       "      <th>20</th>\n",
       "      <td>2017-08-29</td>\n",
       "      <td>sell</td>\n",
       "      <td>apartment</td>\n",
       "      <td>|Argentina|Capital Federal|Palermo|</td>\n",
       "      <td>-34.5950139,-58.4273915</td>\n",
       "      <td>-34.595014</td>\n",
       "      <td>-58.427392</td>\n",
       "      <td>180000.00</td>\n",
       "      <td>70.0</td>\n",
       "      <td>70.0</td>\n",
       "      <td>2571.428571</td>\n",
       "      <td>3.0</td>\n",
       "      <td>https://www.properati.com.ar/1e0mq_venta_departamento_palermo_julian-alvarez-al-1200_lavadero_amoblado_sanchez-carrizo-real-estate</td>\n",
       "      <td>PALERMO</td>\n",
       "      <td>14.0</td>\n",
       "    </tr>\n",
       "    <tr>\n",
       "      <th>22</th>\n",
       "      <td>2017-08-30</td>\n",
       "      <td>sell</td>\n",
       "      <td>house</td>\n",
       "      <td>|Argentina|Capital Federal|Palermo|Palermo Hollywood|</td>\n",
       "      <td>-34.5793535,-58.4364489</td>\n",
       "      <td>-34.579354</td>\n",
       "      <td>-58.436449</td>\n",
       "      <td>1200000.00</td>\n",
       "      <td>532.0</td>\n",
       "      <td>334.0</td>\n",
       "      <td>2255.639098</td>\n",
       "      <td>6.0</td>\n",
       "      <td>https://www.properati.com.ar/1e1ve_venta_casa_palermo-hollywood_jardin_lavadero_piscina_luminoso_vista_garage_nexo-propiedades_h0z</td>\n",
       "      <td>PALERMO</td>\n",
       "      <td>14.0</td>\n",
       "    </tr>\n",
       "    <tr>\n",
       "      <th>24</th>\n",
       "      <td>2017-08-30</td>\n",
       "      <td>sell</td>\n",
       "      <td>apartment</td>\n",
       "      <td>|Argentina|Capital Federal|Palermo|Palermo Hollywood|</td>\n",
       "      <td>-34.5809281,-58.4404321</td>\n",
       "      <td>-34.580928</td>\n",
       "      <td>-58.440432</td>\n",
       "      <td>270000.00</td>\n",
       "      <td>67.0</td>\n",
       "      <td>64.0</td>\n",
       "      <td>4029.850746</td>\n",
       "      <td>3.0</td>\n",
       "      <td>https://www.properati.com.ar/1e1x0_venta_departamento_palermo-hollywood_arevalo_1700_balcon_toilette_luminoso_apto-credito-hipotecario_yankel-group</td>\n",
       "      <td>PALERMO</td>\n",
       "      <td>14.0</td>\n",
       "    </tr>\n",
       "    <tr>\n",
       "      <th>...</th>\n",
       "      <td>...</td>\n",
       "      <td>...</td>\n",
       "      <td>...</td>\n",
       "      <td>...</td>\n",
       "      <td>...</td>\n",
       "      <td>...</td>\n",
       "      <td>...</td>\n",
       "      <td>...</td>\n",
       "      <td>...</td>\n",
       "      <td>...</td>\n",
       "      <td>...</td>\n",
       "      <td>...</td>\n",
       "      <td>...</td>\n",
       "      <td>...</td>\n",
       "      <td>...</td>\n",
       "    </tr>\n",
       "    <tr>\n",
       "      <th>18969</th>\n",
       "      <td>2017-10-21</td>\n",
       "      <td>sell</td>\n",
       "      <td>house</td>\n",
       "      <td>|Argentina|Capital Federal|Villa Lugano|</td>\n",
       "      <td>-34.6640573,-58.4443398</td>\n",
       "      <td>-34.664057</td>\n",
       "      <td>-58.444340</td>\n",
       "      <td>115000.00</td>\n",
       "      <td>120.0</td>\n",
       "      <td>100.0</td>\n",
       "      <td>958.333333</td>\n",
       "      <td>3.0</td>\n",
       "      <td>https://www.properati.com.ar/1hbhx_venta_casa_villa-lugano_subte-premetro_patricia-robutti-sucursal-guamini</td>\n",
       "      <td>VILLA SOLDATI</td>\n",
       "      <td>8.0</td>\n",
       "    </tr>\n",
       "    <tr>\n",
       "      <th>18974</th>\n",
       "      <td>2018-01-08</td>\n",
       "      <td>sell</td>\n",
       "      <td>apartment</td>\n",
       "      <td>|Argentina|Capital Federal|Villa Soldati|</td>\n",
       "      <td>-34.668741,-58.443146</td>\n",
       "      <td>-34.668741</td>\n",
       "      <td>-58.443146</td>\n",
       "      <td>60000.00</td>\n",
       "      <td>55.0</td>\n",
       "      <td>55.0</td>\n",
       "      <td>1090.909091</td>\n",
       "      <td>3.0</td>\n",
       "      <td>https://www.properati.com.ar/1jcpm_venta_departamento_villa-soldati_roca-cnel-av-_3500_subte-premetro_re-max-parque</td>\n",
       "      <td>VILLA SOLDATI</td>\n",
       "      <td>8.0</td>\n",
       "    </tr>\n",
       "    <tr>\n",
       "      <th>18975</th>\n",
       "      <td>2018-01-23</td>\n",
       "      <td>sell</td>\n",
       "      <td>house</td>\n",
       "      <td>|Argentina|Capital Federal|Villa Soldati|</td>\n",
       "      <td>-34.66417,-58.443317</td>\n",
       "      <td>-34.664170</td>\n",
       "      <td>-58.443317</td>\n",
       "      <td>99000.00</td>\n",
       "      <td>115.0</td>\n",
       "      <td>82.0</td>\n",
       "      <td>860.869565</td>\n",
       "      <td>3.0</td>\n",
       "      <td>https://www.properati.com.ar/1k1hs_venta_casa_villa-soldati_lavadero_parrilla_terraza_garage_placard_subte-premetro_re-max-acci-oacute-n</td>\n",
       "      <td>VILLA SOLDATI</td>\n",
       "      <td>8.0</td>\n",
       "    </tr>\n",
       "    <tr>\n",
       "      <th>18977</th>\n",
       "      <td>2018-01-27</td>\n",
       "      <td>sell</td>\n",
       "      <td>apartment</td>\n",
       "      <td>|Argentina|Capital Federal|Villa Soldati|</td>\n",
       "      <td>-34.665005,-58.443041</td>\n",
       "      <td>-34.665005</td>\n",
       "      <td>-58.443041</td>\n",
       "      <td>50433.01</td>\n",
       "      <td>45.0</td>\n",
       "      <td>45.0</td>\n",
       "      <td>1120.733556</td>\n",
       "      <td>3.0</td>\n",
       "      <td>https://www.properati.com.ar/1k5v0_venta_departamento_villa-soldati_lavadero_subte-premetro_re-max-ayres</td>\n",
       "      <td>VILLA SOLDATI</td>\n",
       "      <td>8.0</td>\n",
       "    </tr>\n",
       "    <tr>\n",
       "      <th>18978</th>\n",
       "      <td>2018-01-27</td>\n",
       "      <td>sell</td>\n",
       "      <td>apartment</td>\n",
       "      <td>|Argentina|Capital Federal|Villa Lugano|</td>\n",
       "      <td>-34.664283,-58.469604</td>\n",
       "      <td>-34.664283</td>\n",
       "      <td>-58.469604</td>\n",
       "      <td>75000.00</td>\n",
       "      <td>60.0</td>\n",
       "      <td>58.0</td>\n",
       "      <td>1250.000000</td>\n",
       "      <td>3.0</td>\n",
       "      <td>https://www.properati.com.ar/1k5x2_venta_departamento_villa-lugano_balcon_lavadero_sum_re-max-accion-ii</td>\n",
       "      <td>VILLA SOLDATI</td>\n",
       "      <td>8.0</td>\n",
       "    </tr>\n",
       "  </tbody>\n",
       "</table>\n",
       "<p>12105 rows × 15 columns</p>\n",
       "</div>"
      ],
      "text/plain": [
       "      created_on operation property_type  \\\n",
       "18    2017-08-29      sell     apartment   \n",
       "19    2017-08-29      sell     apartment   \n",
       "20    2017-08-29      sell     apartment   \n",
       "22    2017-08-30      sell         house   \n",
       "24    2017-08-30      sell     apartment   \n",
       "...          ...       ...           ...   \n",
       "18969 2017-10-21      sell         house   \n",
       "18974 2018-01-08      sell     apartment   \n",
       "18975 2018-01-23      sell         house   \n",
       "18977 2018-01-27      sell     apartment   \n",
       "18978 2018-01-27      sell     apartment   \n",
       "\n",
       "                                     place_with_parent_names  \\\n",
       "18                       |Argentina|Capital Federal|Palermo|   \n",
       "19                       |Argentina|Capital Federal|Palermo|   \n",
       "20                       |Argentina|Capital Federal|Palermo|   \n",
       "22     |Argentina|Capital Federal|Palermo|Palermo Hollywood|   \n",
       "24     |Argentina|Capital Federal|Palermo|Palermo Hollywood|   \n",
       "...                                                      ...   \n",
       "18969               |Argentina|Capital Federal|Villa Lugano|   \n",
       "18974              |Argentina|Capital Federal|Villa Soldati|   \n",
       "18975              |Argentina|Capital Federal|Villa Soldati|   \n",
       "18977              |Argentina|Capital Federal|Villa Soldati|   \n",
       "18978               |Argentina|Capital Federal|Villa Lugano|   \n",
       "\n",
       "                            lat-lon        lat        lon  price_aprox_usd  \\\n",
       "18     -34.588912403,-58.4134942185 -34.588912 -58.413494        340000.00   \n",
       "19          -34.5770327,-58.4233675 -34.577033 -58.423368        222000.00   \n",
       "20          -34.5950139,-58.4273915 -34.595014 -58.427392        180000.00   \n",
       "22          -34.5793535,-58.4364489 -34.579354 -58.436449       1200000.00   \n",
       "24          -34.5809281,-58.4404321 -34.580928 -58.440432        270000.00   \n",
       "...                             ...        ...        ...              ...   \n",
       "18969       -34.6640573,-58.4443398 -34.664057 -58.444340        115000.00   \n",
       "18974         -34.668741,-58.443146 -34.668741 -58.443146         60000.00   \n",
       "18975          -34.66417,-58.443317 -34.664170 -58.443317         99000.00   \n",
       "18977         -34.665005,-58.443041 -34.665005 -58.443041         50433.01   \n",
       "18978         -34.664283,-58.469604 -34.664283 -58.469604         75000.00   \n",
       "\n",
       "       surface_total_in_m2  surface_covered_in_m2  price_usd_per_m2  rooms  \\\n",
       "18                   130.0                  120.0       2615.384615    4.0   \n",
       "19                    52.0                   48.0       4269.230769    1.0   \n",
       "20                    70.0                   70.0       2571.428571    3.0   \n",
       "22                   532.0                  334.0       2255.639098    6.0   \n",
       "24                    67.0                   64.0       4029.850746    3.0   \n",
       "...                    ...                    ...               ...    ...   \n",
       "18969                120.0                  100.0        958.333333    3.0   \n",
       "18974                 55.0                   55.0       1090.909091    3.0   \n",
       "18975                115.0                   82.0        860.869565    3.0   \n",
       "18977                 45.0                   45.0       1120.733556    3.0   \n",
       "18978                 60.0                   58.0       1250.000000    3.0   \n",
       "\n",
       "                                                                                                                                                                                                                 properati_url  \\\n",
       "18     https://www.properati.com.ar/1dzv6_venta_departamento_palermo_guemes_3600_balcon_suite_jardin_lavadero_luminoso_lujoso_dependencias_placard_doble-circulacion_subte-linea-d_luisio-propiedades-suc-virrey-del-pino-2378   \n",
       "19                                https://www.properati.com.ar/1e05k_venta_departamento_palermo_juncal-al-4500_gimnasio_jardin_lavadero_parrilla_piscina_sum_aire-acondicionado_subte-linea-h_subte-linea-c_deptos-temporarios   \n",
       "20                                                                                          https://www.properati.com.ar/1e0mq_venta_departamento_palermo_julian-alvarez-al-1200_lavadero_amoblado_sanchez-carrizo-real-estate   \n",
       "22                                                                                          https://www.properati.com.ar/1e1ve_venta_casa_palermo-hollywood_jardin_lavadero_piscina_luminoso_vista_garage_nexo-propiedades_h0z   \n",
       "24                                                                         https://www.properati.com.ar/1e1x0_venta_departamento_palermo-hollywood_arevalo_1700_balcon_toilette_luminoso_apto-credito-hipotecario_yankel-group   \n",
       "...                                                                                                                                                                                                                        ...   \n",
       "18969                                                                                                              https://www.properati.com.ar/1hbhx_venta_casa_villa-lugano_subte-premetro_patricia-robutti-sucursal-guamini   \n",
       "18974                                                                                                      https://www.properati.com.ar/1jcpm_venta_departamento_villa-soldati_roca-cnel-av-_3500_subte-premetro_re-max-parque   \n",
       "18975                                                                                 https://www.properati.com.ar/1k1hs_venta_casa_villa-soldati_lavadero_parrilla_terraza_garage_placard_subte-premetro_re-max-acci-oacute-n   \n",
       "18977                                                                                                                 https://www.properati.com.ar/1k5v0_venta_departamento_villa-soldati_lavadero_subte-premetro_re-max-ayres   \n",
       "18978                                                                                                                  https://www.properati.com.ar/1k5x2_venta_departamento_villa-lugano_balcon_lavadero_sum_re-max-accion-ii   \n",
       "\n",
       "              barrio  comuna  \n",
       "18           PALERMO    14.0  \n",
       "19           PALERMO    14.0  \n",
       "20           PALERMO    14.0  \n",
       "22           PALERMO    14.0  \n",
       "24           PALERMO    14.0  \n",
       "...              ...     ...  \n",
       "18969  VILLA SOLDATI     8.0  \n",
       "18974  VILLA SOLDATI     8.0  \n",
       "18975  VILLA SOLDATI     8.0  \n",
       "18977  VILLA SOLDATI     8.0  \n",
       "18978  VILLA SOLDATI     8.0  \n",
       "\n",
       "[12105 rows x 15 columns]"
      ]
     },
     "execution_count": 55,
     "metadata": {},
     "output_type": "execute_result"
    }
   ],
   "source": [
    "# Deleting rows with 4 elements\n",
    "\n",
    "split_place_filter = df_iqr['place_with_parent_names'].apply(lambda x: len(x.split(\"|\"))!=4)\n",
    "df_iqr = df_iqr.loc[split_place_filter]\n",
    "df_iqr"
   ]
  },
  {
   "cell_type": "code",
   "execution_count": 56,
   "metadata": {},
   "outputs": [
    {
     "data": {
      "text/html": [
       "<div>\n",
       "<style scoped>\n",
       "    .dataframe tbody tr th:only-of-type {\n",
       "        vertical-align: middle;\n",
       "    }\n",
       "\n",
       "    .dataframe tbody tr th {\n",
       "        vertical-align: top;\n",
       "    }\n",
       "\n",
       "    .dataframe thead th {\n",
       "        text-align: right;\n",
       "    }\n",
       "</style>\n",
       "<table border=\"1\" class=\"dataframe\">\n",
       "  <thead>\n",
       "    <tr style=\"text-align: right;\">\n",
       "      <th></th>\n",
       "      <th>created_on</th>\n",
       "      <th>operation</th>\n",
       "      <th>property_type</th>\n",
       "      <th>place_with_parent_names</th>\n",
       "      <th>lat-lon</th>\n",
       "      <th>lat</th>\n",
       "      <th>lon</th>\n",
       "      <th>price_aprox_usd</th>\n",
       "      <th>surface_total_in_m2</th>\n",
       "      <th>surface_covered_in_m2</th>\n",
       "      <th>price_usd_per_m2</th>\n",
       "      <th>rooms</th>\n",
       "      <th>properati_url</th>\n",
       "      <th>barrio</th>\n",
       "      <th>comuna</th>\n",
       "      <th>barrio_publicado</th>\n",
       "    </tr>\n",
       "  </thead>\n",
       "  <tbody>\n",
       "    <tr>\n",
       "      <th>18</th>\n",
       "      <td>2017-08-29</td>\n",
       "      <td>sell</td>\n",
       "      <td>apartment</td>\n",
       "      <td>|Argentina|Capital Federal|Palermo|</td>\n",
       "      <td>-34.588912403,-58.4134942185</td>\n",
       "      <td>-34.588912</td>\n",
       "      <td>-58.413494</td>\n",
       "      <td>340000.00</td>\n",
       "      <td>130.0</td>\n",
       "      <td>120.0</td>\n",
       "      <td>2615.384615</td>\n",
       "      <td>4.0</td>\n",
       "      <td>https://www.properati.com.ar/1dzv6_venta_departamento_palermo_guemes_3600_balcon_suite_jardin_lavadero_luminoso_lujoso_dependencias_placard_doble-circulacion_subte-linea-d_luisio-propiedades-suc-virrey-del-pino-2378</td>\n",
       "      <td>PALERMO</td>\n",
       "      <td>14.0</td>\n",
       "      <td>PALERMO</td>\n",
       "    </tr>\n",
       "    <tr>\n",
       "      <th>19</th>\n",
       "      <td>2017-08-29</td>\n",
       "      <td>sell</td>\n",
       "      <td>apartment</td>\n",
       "      <td>|Argentina|Capital Federal|Palermo|</td>\n",
       "      <td>-34.5770327,-58.4233675</td>\n",
       "      <td>-34.577033</td>\n",
       "      <td>-58.423368</td>\n",
       "      <td>222000.00</td>\n",
       "      <td>52.0</td>\n",
       "      <td>48.0</td>\n",
       "      <td>4269.230769</td>\n",
       "      <td>1.0</td>\n",
       "      <td>https://www.properati.com.ar/1e05k_venta_departamento_palermo_juncal-al-4500_gimnasio_jardin_lavadero_parrilla_piscina_sum_aire-acondicionado_subte-linea-h_subte-linea-c_deptos-temporarios</td>\n",
       "      <td>PALERMO</td>\n",
       "      <td>14.0</td>\n",
       "      <td>PALERMO</td>\n",
       "    </tr>\n",
       "    <tr>\n",
       "      <th>20</th>\n",
       "      <td>2017-08-29</td>\n",
       "      <td>sell</td>\n",
       "      <td>apartment</td>\n",
       "      <td>|Argentina|Capital Federal|Palermo|</td>\n",
       "      <td>-34.5950139,-58.4273915</td>\n",
       "      <td>-34.595014</td>\n",
       "      <td>-58.427392</td>\n",
       "      <td>180000.00</td>\n",
       "      <td>70.0</td>\n",
       "      <td>70.0</td>\n",
       "      <td>2571.428571</td>\n",
       "      <td>3.0</td>\n",
       "      <td>https://www.properati.com.ar/1e0mq_venta_departamento_palermo_julian-alvarez-al-1200_lavadero_amoblado_sanchez-carrizo-real-estate</td>\n",
       "      <td>PALERMO</td>\n",
       "      <td>14.0</td>\n",
       "      <td>PALERMO</td>\n",
       "    </tr>\n",
       "    <tr>\n",
       "      <th>22</th>\n",
       "      <td>2017-08-30</td>\n",
       "      <td>sell</td>\n",
       "      <td>house</td>\n",
       "      <td>|Argentina|Capital Federal|Palermo|Palermo Hollywood|</td>\n",
       "      <td>-34.5793535,-58.4364489</td>\n",
       "      <td>-34.579354</td>\n",
       "      <td>-58.436449</td>\n",
       "      <td>1200000.00</td>\n",
       "      <td>532.0</td>\n",
       "      <td>334.0</td>\n",
       "      <td>2255.639098</td>\n",
       "      <td>6.0</td>\n",
       "      <td>https://www.properati.com.ar/1e1ve_venta_casa_palermo-hollywood_jardin_lavadero_piscina_luminoso_vista_garage_nexo-propiedades_h0z</td>\n",
       "      <td>PALERMO</td>\n",
       "      <td>14.0</td>\n",
       "      <td>PALERMO</td>\n",
       "    </tr>\n",
       "    <tr>\n",
       "      <th>24</th>\n",
       "      <td>2017-08-30</td>\n",
       "      <td>sell</td>\n",
       "      <td>apartment</td>\n",
       "      <td>|Argentina|Capital Federal|Palermo|Palermo Hollywood|</td>\n",
       "      <td>-34.5809281,-58.4404321</td>\n",
       "      <td>-34.580928</td>\n",
       "      <td>-58.440432</td>\n",
       "      <td>270000.00</td>\n",
       "      <td>67.0</td>\n",
       "      <td>64.0</td>\n",
       "      <td>4029.850746</td>\n",
       "      <td>3.0</td>\n",
       "      <td>https://www.properati.com.ar/1e1x0_venta_departamento_palermo-hollywood_arevalo_1700_balcon_toilette_luminoso_apto-credito-hipotecario_yankel-group</td>\n",
       "      <td>PALERMO</td>\n",
       "      <td>14.0</td>\n",
       "      <td>PALERMO</td>\n",
       "    </tr>\n",
       "    <tr>\n",
       "      <th>...</th>\n",
       "      <td>...</td>\n",
       "      <td>...</td>\n",
       "      <td>...</td>\n",
       "      <td>...</td>\n",
       "      <td>...</td>\n",
       "      <td>...</td>\n",
       "      <td>...</td>\n",
       "      <td>...</td>\n",
       "      <td>...</td>\n",
       "      <td>...</td>\n",
       "      <td>...</td>\n",
       "      <td>...</td>\n",
       "      <td>...</td>\n",
       "      <td>...</td>\n",
       "      <td>...</td>\n",
       "      <td>...</td>\n",
       "    </tr>\n",
       "    <tr>\n",
       "      <th>18969</th>\n",
       "      <td>2017-10-21</td>\n",
       "      <td>sell</td>\n",
       "      <td>house</td>\n",
       "      <td>|Argentina|Capital Federal|Villa Lugano|</td>\n",
       "      <td>-34.6640573,-58.4443398</td>\n",
       "      <td>-34.664057</td>\n",
       "      <td>-58.444340</td>\n",
       "      <td>115000.00</td>\n",
       "      <td>120.0</td>\n",
       "      <td>100.0</td>\n",
       "      <td>958.333333</td>\n",
       "      <td>3.0</td>\n",
       "      <td>https://www.properati.com.ar/1hbhx_venta_casa_villa-lugano_subte-premetro_patricia-robutti-sucursal-guamini</td>\n",
       "      <td>VILLA SOLDATI</td>\n",
       "      <td>8.0</td>\n",
       "      <td>VILLA LUGANO</td>\n",
       "    </tr>\n",
       "    <tr>\n",
       "      <th>18974</th>\n",
       "      <td>2018-01-08</td>\n",
       "      <td>sell</td>\n",
       "      <td>apartment</td>\n",
       "      <td>|Argentina|Capital Federal|Villa Soldati|</td>\n",
       "      <td>-34.668741,-58.443146</td>\n",
       "      <td>-34.668741</td>\n",
       "      <td>-58.443146</td>\n",
       "      <td>60000.00</td>\n",
       "      <td>55.0</td>\n",
       "      <td>55.0</td>\n",
       "      <td>1090.909091</td>\n",
       "      <td>3.0</td>\n",
       "      <td>https://www.properati.com.ar/1jcpm_venta_departamento_villa-soldati_roca-cnel-av-_3500_subte-premetro_re-max-parque</td>\n",
       "      <td>VILLA SOLDATI</td>\n",
       "      <td>8.0</td>\n",
       "      <td>VILLA SOLDATI</td>\n",
       "    </tr>\n",
       "    <tr>\n",
       "      <th>18975</th>\n",
       "      <td>2018-01-23</td>\n",
       "      <td>sell</td>\n",
       "      <td>house</td>\n",
       "      <td>|Argentina|Capital Federal|Villa Soldati|</td>\n",
       "      <td>-34.66417,-58.443317</td>\n",
       "      <td>-34.664170</td>\n",
       "      <td>-58.443317</td>\n",
       "      <td>99000.00</td>\n",
       "      <td>115.0</td>\n",
       "      <td>82.0</td>\n",
       "      <td>860.869565</td>\n",
       "      <td>3.0</td>\n",
       "      <td>https://www.properati.com.ar/1k1hs_venta_casa_villa-soldati_lavadero_parrilla_terraza_garage_placard_subte-premetro_re-max-acci-oacute-n</td>\n",
       "      <td>VILLA SOLDATI</td>\n",
       "      <td>8.0</td>\n",
       "      <td>VILLA SOLDATI</td>\n",
       "    </tr>\n",
       "    <tr>\n",
       "      <th>18977</th>\n",
       "      <td>2018-01-27</td>\n",
       "      <td>sell</td>\n",
       "      <td>apartment</td>\n",
       "      <td>|Argentina|Capital Federal|Villa Soldati|</td>\n",
       "      <td>-34.665005,-58.443041</td>\n",
       "      <td>-34.665005</td>\n",
       "      <td>-58.443041</td>\n",
       "      <td>50433.01</td>\n",
       "      <td>45.0</td>\n",
       "      <td>45.0</td>\n",
       "      <td>1120.733556</td>\n",
       "      <td>3.0</td>\n",
       "      <td>https://www.properati.com.ar/1k5v0_venta_departamento_villa-soldati_lavadero_subte-premetro_re-max-ayres</td>\n",
       "      <td>VILLA SOLDATI</td>\n",
       "      <td>8.0</td>\n",
       "      <td>VILLA SOLDATI</td>\n",
       "    </tr>\n",
       "    <tr>\n",
       "      <th>18978</th>\n",
       "      <td>2018-01-27</td>\n",
       "      <td>sell</td>\n",
       "      <td>apartment</td>\n",
       "      <td>|Argentina|Capital Federal|Villa Lugano|</td>\n",
       "      <td>-34.664283,-58.469604</td>\n",
       "      <td>-34.664283</td>\n",
       "      <td>-58.469604</td>\n",
       "      <td>75000.00</td>\n",
       "      <td>60.0</td>\n",
       "      <td>58.0</td>\n",
       "      <td>1250.000000</td>\n",
       "      <td>3.0</td>\n",
       "      <td>https://www.properati.com.ar/1k5x2_venta_departamento_villa-lugano_balcon_lavadero_sum_re-max-accion-ii</td>\n",
       "      <td>VILLA SOLDATI</td>\n",
       "      <td>8.0</td>\n",
       "      <td>VILLA LUGANO</td>\n",
       "    </tr>\n",
       "  </tbody>\n",
       "</table>\n",
       "<p>12105 rows × 16 columns</p>\n",
       "</div>"
      ],
      "text/plain": [
       "      created_on operation property_type  \\\n",
       "18    2017-08-29      sell     apartment   \n",
       "19    2017-08-29      sell     apartment   \n",
       "20    2017-08-29      sell     apartment   \n",
       "22    2017-08-30      sell         house   \n",
       "24    2017-08-30      sell     apartment   \n",
       "...          ...       ...           ...   \n",
       "18969 2017-10-21      sell         house   \n",
       "18974 2018-01-08      sell     apartment   \n",
       "18975 2018-01-23      sell         house   \n",
       "18977 2018-01-27      sell     apartment   \n",
       "18978 2018-01-27      sell     apartment   \n",
       "\n",
       "                                     place_with_parent_names  \\\n",
       "18                       |Argentina|Capital Federal|Palermo|   \n",
       "19                       |Argentina|Capital Federal|Palermo|   \n",
       "20                       |Argentina|Capital Federal|Palermo|   \n",
       "22     |Argentina|Capital Federal|Palermo|Palermo Hollywood|   \n",
       "24     |Argentina|Capital Federal|Palermo|Palermo Hollywood|   \n",
       "...                                                      ...   \n",
       "18969               |Argentina|Capital Federal|Villa Lugano|   \n",
       "18974              |Argentina|Capital Federal|Villa Soldati|   \n",
       "18975              |Argentina|Capital Federal|Villa Soldati|   \n",
       "18977              |Argentina|Capital Federal|Villa Soldati|   \n",
       "18978               |Argentina|Capital Federal|Villa Lugano|   \n",
       "\n",
       "                            lat-lon        lat        lon  price_aprox_usd  \\\n",
       "18     -34.588912403,-58.4134942185 -34.588912 -58.413494        340000.00   \n",
       "19          -34.5770327,-58.4233675 -34.577033 -58.423368        222000.00   \n",
       "20          -34.5950139,-58.4273915 -34.595014 -58.427392        180000.00   \n",
       "22          -34.5793535,-58.4364489 -34.579354 -58.436449       1200000.00   \n",
       "24          -34.5809281,-58.4404321 -34.580928 -58.440432        270000.00   \n",
       "...                             ...        ...        ...              ...   \n",
       "18969       -34.6640573,-58.4443398 -34.664057 -58.444340        115000.00   \n",
       "18974         -34.668741,-58.443146 -34.668741 -58.443146         60000.00   \n",
       "18975          -34.66417,-58.443317 -34.664170 -58.443317         99000.00   \n",
       "18977         -34.665005,-58.443041 -34.665005 -58.443041         50433.01   \n",
       "18978         -34.664283,-58.469604 -34.664283 -58.469604         75000.00   \n",
       "\n",
       "       surface_total_in_m2  surface_covered_in_m2  price_usd_per_m2  rooms  \\\n",
       "18                   130.0                  120.0       2615.384615    4.0   \n",
       "19                    52.0                   48.0       4269.230769    1.0   \n",
       "20                    70.0                   70.0       2571.428571    3.0   \n",
       "22                   532.0                  334.0       2255.639098    6.0   \n",
       "24                    67.0                   64.0       4029.850746    3.0   \n",
       "...                    ...                    ...               ...    ...   \n",
       "18969                120.0                  100.0        958.333333    3.0   \n",
       "18974                 55.0                   55.0       1090.909091    3.0   \n",
       "18975                115.0                   82.0        860.869565    3.0   \n",
       "18977                 45.0                   45.0       1120.733556    3.0   \n",
       "18978                 60.0                   58.0       1250.000000    3.0   \n",
       "\n",
       "                                                                                                                                                                                                                 properati_url  \\\n",
       "18     https://www.properati.com.ar/1dzv6_venta_departamento_palermo_guemes_3600_balcon_suite_jardin_lavadero_luminoso_lujoso_dependencias_placard_doble-circulacion_subte-linea-d_luisio-propiedades-suc-virrey-del-pino-2378   \n",
       "19                                https://www.properati.com.ar/1e05k_venta_departamento_palermo_juncal-al-4500_gimnasio_jardin_lavadero_parrilla_piscina_sum_aire-acondicionado_subte-linea-h_subte-linea-c_deptos-temporarios   \n",
       "20                                                                                          https://www.properati.com.ar/1e0mq_venta_departamento_palermo_julian-alvarez-al-1200_lavadero_amoblado_sanchez-carrizo-real-estate   \n",
       "22                                                                                          https://www.properati.com.ar/1e1ve_venta_casa_palermo-hollywood_jardin_lavadero_piscina_luminoso_vista_garage_nexo-propiedades_h0z   \n",
       "24                                                                         https://www.properati.com.ar/1e1x0_venta_departamento_palermo-hollywood_arevalo_1700_balcon_toilette_luminoso_apto-credito-hipotecario_yankel-group   \n",
       "...                                                                                                                                                                                                                        ...   \n",
       "18969                                                                                                              https://www.properati.com.ar/1hbhx_venta_casa_villa-lugano_subte-premetro_patricia-robutti-sucursal-guamini   \n",
       "18974                                                                                                      https://www.properati.com.ar/1jcpm_venta_departamento_villa-soldati_roca-cnel-av-_3500_subte-premetro_re-max-parque   \n",
       "18975                                                                                 https://www.properati.com.ar/1k1hs_venta_casa_villa-soldati_lavadero_parrilla_terraza_garage_placard_subte-premetro_re-max-acci-oacute-n   \n",
       "18977                                                                                                                 https://www.properati.com.ar/1k5v0_venta_departamento_villa-soldati_lavadero_subte-premetro_re-max-ayres   \n",
       "18978                                                                                                                  https://www.properati.com.ar/1k5x2_venta_departamento_villa-lugano_balcon_lavadero_sum_re-max-accion-ii   \n",
       "\n",
       "              barrio  comuna barrio_publicado  \n",
       "18           PALERMO    14.0          PALERMO  \n",
       "19           PALERMO    14.0          PALERMO  \n",
       "20           PALERMO    14.0          PALERMO  \n",
       "22           PALERMO    14.0          PALERMO  \n",
       "24           PALERMO    14.0          PALERMO  \n",
       "...              ...     ...              ...  \n",
       "18969  VILLA SOLDATI     8.0     VILLA LUGANO  \n",
       "18974  VILLA SOLDATI     8.0    VILLA SOLDATI  \n",
       "18975  VILLA SOLDATI     8.0    VILLA SOLDATI  \n",
       "18977  VILLA SOLDATI     8.0    VILLA SOLDATI  \n",
       "18978  VILLA SOLDATI     8.0     VILLA LUGANO  \n",
       "\n",
       "[12105 rows x 16 columns]"
      ]
     },
     "execution_count": 56,
     "metadata": {},
     "output_type": "execute_result"
    }
   ],
   "source": [
    "df_iqr['barrio_publicado'] = df_iqr['place_with_parent_names'].apply(lambda x: x.split(\"|\")[3].upper())\n",
    "df_iqr['barrio_publicado'] = df_iqr['barrio_publicado'].str.normalize('NFKD').str.encode('ascii', errors='ignore').str.decode('utf-8')\n",
    "df_iqr"
   ]
  },
  {
   "cell_type": "code",
   "execution_count": 57,
   "metadata": {},
   "outputs": [
    {
     "data": {
      "text/html": [
       "<div>\n",
       "<style scoped>\n",
       "    .dataframe tbody tr th:only-of-type {\n",
       "        vertical-align: middle;\n",
       "    }\n",
       "\n",
       "    .dataframe tbody tr th {\n",
       "        vertical-align: top;\n",
       "    }\n",
       "\n",
       "    .dataframe thead th {\n",
       "        text-align: right;\n",
       "    }\n",
       "</style>\n",
       "<table border=\"1\" class=\"dataframe\">\n",
       "  <thead>\n",
       "    <tr style=\"text-align: right;\">\n",
       "      <th></th>\n",
       "      <th>created_on</th>\n",
       "      <th>operation</th>\n",
       "      <th>property_type</th>\n",
       "      <th>place_with_parent_names</th>\n",
       "      <th>lat-lon</th>\n",
       "      <th>lat</th>\n",
       "      <th>lon</th>\n",
       "      <th>price_aprox_usd</th>\n",
       "      <th>surface_total_in_m2</th>\n",
       "      <th>surface_covered_in_m2</th>\n",
       "      <th>price_usd_per_m2</th>\n",
       "      <th>rooms</th>\n",
       "      <th>properati_url</th>\n",
       "      <th>barrio</th>\n",
       "      <th>comuna</th>\n",
       "      <th>barrio_publicado</th>\n",
       "    </tr>\n",
       "  </thead>\n",
       "  <tbody>\n",
       "    <tr>\n",
       "      <th>40</th>\n",
       "      <td>2017-09-01</td>\n",
       "      <td>sell</td>\n",
       "      <td>apartment</td>\n",
       "      <td>|Argentina|Capital Federal|Barrio Norte|</td>\n",
       "      <td>-34.57548904,-58.41962433</td>\n",
       "      <td>-34.575489</td>\n",
       "      <td>-58.419624</td>\n",
       "      <td>510000.0</td>\n",
       "      <td>239.0</td>\n",
       "      <td>127.0</td>\n",
       "      <td>2133.891213</td>\n",
       "      <td>2.0</td>\n",
       "      <td>https://www.properati.com.ar/1e66w_venta_departamento_barrio-norte_de-maria_4300_baulera_patio_subte-linea-d_apto-credito-hipotecario_grupo-zeta-inmobiliaria</td>\n",
       "      <td>PALERMO</td>\n",
       "      <td>14.0</td>\n",
       "      <td>BARRIO NORTE</td>\n",
       "    </tr>\n",
       "    <tr>\n",
       "      <th>42</th>\n",
       "      <td>2017-09-01</td>\n",
       "      <td>sell</td>\n",
       "      <td>apartment</td>\n",
       "      <td>|Argentina|Capital Federal|Nuñez|</td>\n",
       "      <td>-34.5672629609,-58.4318401926</td>\n",
       "      <td>-34.567263</td>\n",
       "      <td>-58.431840</td>\n",
       "      <td>640000.0</td>\n",
       "      <td>200.0</td>\n",
       "      <td>185.0</td>\n",
       "      <td>3200.000000</td>\n",
       "      <td>4.0</td>\n",
       "      <td>https://www.properati.com.ar/1e6hy_venta_departamento_nunez_san-benito-de-palermo_1500_balcon_baulera_suite_lavadero_toilette_vestidor_lujoso_dependencias_garage_aire-acondicionado_filippo-propiedades_9im</td>\n",
       "      <td>PALERMO</td>\n",
       "      <td>14.0</td>\n",
       "      <td>NUNEZ</td>\n",
       "    </tr>\n",
       "    <tr>\n",
       "      <th>43</th>\n",
       "      <td>2017-09-01</td>\n",
       "      <td>sell</td>\n",
       "      <td>apartment</td>\n",
       "      <td>|Argentina|Capital Federal|Belgrano|</td>\n",
       "      <td>-34.5670278,-58.4353992</td>\n",
       "      <td>-34.567028</td>\n",
       "      <td>-58.435399</td>\n",
       "      <td>590000.0</td>\n",
       "      <td>168.0</td>\n",
       "      <td>157.0</td>\n",
       "      <td>3511.904762</td>\n",
       "      <td>4.0</td>\n",
       "      <td>https://www.properati.com.ar/1e6s5_venta_departamento_belgrano_soldado-de-la-independencia_900_balcon_baulera_suite_lavadero_toilette_vestidor_luminoso_lujoso_garage_impecable_aire-acondicionado_shenk-inmobiliaria_gkj</td>\n",
       "      <td>PALERMO</td>\n",
       "      <td>14.0</td>\n",
       "      <td>BELGRANO</td>\n",
       "    </tr>\n",
       "  </tbody>\n",
       "</table>\n",
       "</div>"
      ],
      "text/plain": [
       "   created_on operation property_type  \\\n",
       "40 2017-09-01      sell     apartment   \n",
       "42 2017-09-01      sell     apartment   \n",
       "43 2017-09-01      sell     apartment   \n",
       "\n",
       "                     place_with_parent_names                        lat-lon  \\\n",
       "40  |Argentina|Capital Federal|Barrio Norte|      -34.57548904,-58.41962433   \n",
       "42         |Argentina|Capital Federal|Nuñez|  -34.5672629609,-58.4318401926   \n",
       "43      |Argentina|Capital Federal|Belgrano|        -34.5670278,-58.4353992   \n",
       "\n",
       "          lat        lon  price_aprox_usd  surface_total_in_m2  \\\n",
       "40 -34.575489 -58.419624         510000.0                239.0   \n",
       "42 -34.567263 -58.431840         640000.0                200.0   \n",
       "43 -34.567028 -58.435399         590000.0                168.0   \n",
       "\n",
       "    surface_covered_in_m2  price_usd_per_m2  rooms  \\\n",
       "40                  127.0       2133.891213    2.0   \n",
       "42                  185.0       3200.000000    4.0   \n",
       "43                  157.0       3511.904762    4.0   \n",
       "\n",
       "                                                                                                                                                                                                                properati_url  \\\n",
       "40                                                              https://www.properati.com.ar/1e66w_venta_departamento_barrio-norte_de-maria_4300_baulera_patio_subte-linea-d_apto-credito-hipotecario_grupo-zeta-inmobiliaria   \n",
       "42               https://www.properati.com.ar/1e6hy_venta_departamento_nunez_san-benito-de-palermo_1500_balcon_baulera_suite_lavadero_toilette_vestidor_lujoso_dependencias_garage_aire-acondicionado_filippo-propiedades_9im   \n",
       "43  https://www.properati.com.ar/1e6s5_venta_departamento_belgrano_soldado-de-la-independencia_900_balcon_baulera_suite_lavadero_toilette_vestidor_luminoso_lujoso_garage_impecable_aire-acondicionado_shenk-inmobiliaria_gkj   \n",
       "\n",
       "     barrio  comuna barrio_publicado  \n",
       "40  PALERMO    14.0     BARRIO NORTE  \n",
       "42  PALERMO    14.0            NUNEZ  \n",
       "43  PALERMO    14.0         BELGRANO  "
      ]
     },
     "execution_count": 57,
     "metadata": {},
     "output_type": "execute_result"
    }
   ],
   "source": [
    "# neighborhoods where neighborhood and published neighborhood doesn't match\n",
    "barrios_match = (df_iqr['barrio_publicado'] != df_iqr['barrio'])\n",
    "df_iqr_barrio_not_match = df_iqr.loc[barrios_match]\n",
    "df_iqr_barrio_not_match.head(3)"
   ]
  },
  {
   "cell_type": "code",
   "execution_count": 58,
   "metadata": {},
   "outputs": [
    {
     "data": {
      "text/plain": [
       "barrio\n",
       "AGRONOMIA                VILLA PUEYRREDON\n",
       "ALMAGRO                         CABALLITO\n",
       "BALVANERA                            ONCE\n",
       "BARRACAS                        SAN TELMO\n",
       "BELGRANO                            NUNEZ\n",
       "BOCA                             BARRACAS\n",
       "BOEDO                    PARQUE PATRICIOS\n",
       "CABALLITO               PARQUE CENTENARIO\n",
       "CHACARITA                      COLEGIALES\n",
       "COGHLAN                          BELGRANO\n",
       "COLEGIALES                       BELGRANO\n",
       "CONSTITUCION                    SAN TELMO\n",
       "FLORES                          CABALLITO\n",
       "FLORESTA                           FLORES\n",
       "LINIERS                        VILLA LURO\n",
       "MATADEROS                         LINIERS\n",
       "MONSERRAT                        CONGRESO\n",
       "MONTE CASTRO                     FLORESTA\n",
       "NUEVA POMPEYA                     POMPEYA\n",
       "NUEZ                                NUNEZ\n",
       "PALERMO                          BELGRANO\n",
       "PARQUE AVELLANEDA                FLORESTA\n",
       "PARQUE CHACABUCO                CABALLITO\n",
       "PARQUE CHAS                 VILLA URQUIZA\n",
       "PARQUE PATRICIOS            SAN CRISTOBAL\n",
       "PATERNAL                 VILLA DEL PARQUE\n",
       "RECOLETA                     BARRIO NORTE\n",
       "RETIRO                           RECOLETA\n",
       "SAAVEDRA                            NUNEZ\n",
       "SAN CRISTOBAL                       BOEDO\n",
       "SAN NICOLAS          CENTRO / MICROCENTRO\n",
       "SAN TELMO                        BARRACAS\n",
       "VELEZ SARSFIELD                  FLORESTA\n",
       "VERSALLES                    VILLA DEVOTO\n",
       "VILLA CRESPO                      PALERMO\n",
       "VILLA DEL PARQUE             VILLA DEVOTO\n",
       "VILLA DEVOTO             VILLA PUEYRREDON\n",
       "VILLA GRAL. MITRE     VILLA GENERAL MITRE\n",
       "VILLA LUGANO                    MATADEROS\n",
       "VILLA LURO                      VERSALLES\n",
       "VILLA ORTUZAR               VILLA URQUIZA\n",
       "VILLA PUEYRREDON             VILLA DEVOTO\n",
       "VILLA REAL                   VILLA DEVOTO\n",
       "VILLA RIACHUELO              VILLA LUGANO\n",
       "VILLA SANTA RITA         VILLA DEL PARQUE\n",
       "VILLA SOLDATI                VILLA LUGANO\n",
       "VILLA URQUIZA                    BELGRANO\n",
       "dtype: object"
      ]
     },
     "execution_count": 58,
     "metadata": {},
     "output_type": "execute_result"
    }
   ],
   "source": [
    "# Most common published neighborhood for each neighborhood (omitting itself)\n",
    "\n",
    "table = pd.crosstab(df_iqr_barrio_not_match.barrio, df_iqr_barrio_not_match.barrio_publicado)\n",
    "table.idxmax(axis=1)"
   ]
  },
  {
   "cell_type": "markdown",
   "metadata": {},
   "source": [
    "Conclusion: neighborhoods are usually associated with nearby and more expensive neighborhoods."
   ]
  },
  {
   "cell_type": "markdown",
   "metadata": {},
   "source": [
    "### Binaries"
   ]
  },
  {
   "cell_type": "code",
   "execution_count": 59,
   "metadata": {},
   "outputs": [],
   "source": [
    "df = df_iqr"
   ]
  },
  {
   "cell_type": "code",
   "execution_count": 60,
   "metadata": {},
   "outputs": [
    {
     "data": {
      "text/plain": [
       "12105"
      ]
     },
     "execution_count": 60,
     "metadata": {},
     "output_type": "execute_result"
    }
   ],
   "source": [
    "df.shape[0]"
   ]
  },
  {
   "cell_type": "code",
   "execution_count": 61,
   "metadata": {},
   "outputs": [],
   "source": [
    "df['barrio_match'] = [1 if row['barrio'].lower() == row['barrio_publicado'].lower() else 0 for index,row in df.iterrows()]"
   ]
  },
  {
   "cell_type": "code",
   "execution_count": 62,
   "metadata": {},
   "outputs": [
    {
     "data": {
      "text/plain": [
       "['PH', 'apartment', 'house']"
      ]
     },
     "execution_count": 62,
     "metadata": {},
     "output_type": "execute_result"
    }
   ],
   "source": [
    "from sklearn.preprocessing import LabelEncoder\n",
    "\n",
    "le = LabelEncoder()\n",
    "a = le.fit(df['property_type'])\n",
    "list(le.classes_)"
   ]
  },
  {
   "cell_type": "code",
   "execution_count": 63,
   "metadata": {},
   "outputs": [
    {
     "data": {
      "text/html": [
       "<div>\n",
       "<style scoped>\n",
       "    .dataframe tbody tr th:only-of-type {\n",
       "        vertical-align: middle;\n",
       "    }\n",
       "\n",
       "    .dataframe tbody tr th {\n",
       "        vertical-align: top;\n",
       "    }\n",
       "\n",
       "    .dataframe thead th {\n",
       "        text-align: right;\n",
       "    }\n",
       "</style>\n",
       "<table border=\"1\" class=\"dataframe\">\n",
       "  <thead>\n",
       "    <tr style=\"text-align: right;\">\n",
       "      <th></th>\n",
       "      <th>PH</th>\n",
       "      <th>apartment</th>\n",
       "      <th>house</th>\n",
       "    </tr>\n",
       "  </thead>\n",
       "  <tbody>\n",
       "    <tr>\n",
       "      <th>0</th>\n",
       "      <td>0.0</td>\n",
       "      <td>1.0</td>\n",
       "      <td>0.0</td>\n",
       "    </tr>\n",
       "    <tr>\n",
       "      <th>1</th>\n",
       "      <td>0.0</td>\n",
       "      <td>1.0</td>\n",
       "      <td>0.0</td>\n",
       "    </tr>\n",
       "    <tr>\n",
       "      <th>2</th>\n",
       "      <td>0.0</td>\n",
       "      <td>1.0</td>\n",
       "      <td>0.0</td>\n",
       "    </tr>\n",
       "    <tr>\n",
       "      <th>3</th>\n",
       "      <td>0.0</td>\n",
       "      <td>0.0</td>\n",
       "      <td>1.0</td>\n",
       "    </tr>\n",
       "    <tr>\n",
       "      <th>4</th>\n",
       "      <td>0.0</td>\n",
       "      <td>1.0</td>\n",
       "      <td>0.0</td>\n",
       "    </tr>\n",
       "    <tr>\n",
       "      <th>...</th>\n",
       "      <td>...</td>\n",
       "      <td>...</td>\n",
       "      <td>...</td>\n",
       "    </tr>\n",
       "    <tr>\n",
       "      <th>12100</th>\n",
       "      <td>0.0</td>\n",
       "      <td>0.0</td>\n",
       "      <td>1.0</td>\n",
       "    </tr>\n",
       "    <tr>\n",
       "      <th>12101</th>\n",
       "      <td>0.0</td>\n",
       "      <td>1.0</td>\n",
       "      <td>0.0</td>\n",
       "    </tr>\n",
       "    <tr>\n",
       "      <th>12102</th>\n",
       "      <td>0.0</td>\n",
       "      <td>0.0</td>\n",
       "      <td>1.0</td>\n",
       "    </tr>\n",
       "    <tr>\n",
       "      <th>12103</th>\n",
       "      <td>0.0</td>\n",
       "      <td>1.0</td>\n",
       "      <td>0.0</td>\n",
       "    </tr>\n",
       "    <tr>\n",
       "      <th>12104</th>\n",
       "      <td>0.0</td>\n",
       "      <td>1.0</td>\n",
       "      <td>0.0</td>\n",
       "    </tr>\n",
       "  </tbody>\n",
       "</table>\n",
       "<p>12105 rows × 3 columns</p>\n",
       "</div>"
      ],
      "text/plain": [
       "        PH  apartment  house\n",
       "0      0.0        1.0    0.0\n",
       "1      0.0        1.0    0.0\n",
       "2      0.0        1.0    0.0\n",
       "3      0.0        0.0    1.0\n",
       "4      0.0        1.0    0.0\n",
       "...    ...        ...    ...\n",
       "12100  0.0        0.0    1.0\n",
       "12101  0.0        1.0    0.0\n",
       "12102  0.0        0.0    1.0\n",
       "12103  0.0        1.0    0.0\n",
       "12104  0.0        1.0    0.0\n",
       "\n",
       "[12105 rows x 3 columns]"
      ]
     },
     "execution_count": 63,
     "metadata": {},
     "output_type": "execute_result"
    }
   ],
   "source": [
    "from sklearn.preprocessing import OneHotEncoder\n",
    "\n",
    "int_enc = le.fit_transform(df['property_type'])\n",
    "int_enc\n",
    "ohe = OneHotEncoder(sparse=False,categories='auto')\n",
    "int_enc = int_enc.reshape(len(int_enc),1)\n",
    "ohe_final = ohe.fit_transform(int_enc)\n",
    "categoricals_df = pd.DataFrame(data=ohe_final, columns=['PH','apartment','house'])\n",
    "categoricals_df"
   ]
  },
  {
   "cell_type": "code",
   "execution_count": 64,
   "metadata": {},
   "outputs": [
    {
     "data": {
      "text/html": [
       "<div>\n",
       "<style scoped>\n",
       "    .dataframe tbody tr th:only-of-type {\n",
       "        vertical-align: middle;\n",
       "    }\n",
       "\n",
       "    .dataframe tbody tr th {\n",
       "        vertical-align: top;\n",
       "    }\n",
       "\n",
       "    .dataframe thead th {\n",
       "        text-align: right;\n",
       "    }\n",
       "</style>\n",
       "<table border=\"1\" class=\"dataframe\">\n",
       "  <thead>\n",
       "    <tr style=\"text-align: right;\">\n",
       "      <th></th>\n",
       "      <th>created_on</th>\n",
       "      <th>operation</th>\n",
       "      <th>property_type</th>\n",
       "      <th>place_with_parent_names</th>\n",
       "      <th>lat-lon</th>\n",
       "      <th>lat</th>\n",
       "      <th>lon</th>\n",
       "      <th>price_aprox_usd</th>\n",
       "      <th>surface_total_in_m2</th>\n",
       "      <th>surface_covered_in_m2</th>\n",
       "      <th>price_usd_per_m2</th>\n",
       "      <th>rooms</th>\n",
       "      <th>properati_url</th>\n",
       "      <th>barrio</th>\n",
       "      <th>comuna</th>\n",
       "      <th>barrio_publicado</th>\n",
       "      <th>barrio_match</th>\n",
       "      <th>PH</th>\n",
       "      <th>apartment</th>\n",
       "      <th>house</th>\n",
       "    </tr>\n",
       "  </thead>\n",
       "  <tbody>\n",
       "    <tr>\n",
       "      <th>18</th>\n",
       "      <td>2017-08-29</td>\n",
       "      <td>sell</td>\n",
       "      <td>apartment</td>\n",
       "      <td>|Argentina|Capital Federal|Palermo|</td>\n",
       "      <td>-34.588912403,-58.4134942185</td>\n",
       "      <td>-34.588912</td>\n",
       "      <td>-58.413494</td>\n",
       "      <td>340000.0</td>\n",
       "      <td>130.0</td>\n",
       "      <td>120.0</td>\n",
       "      <td>2615.384615</td>\n",
       "      <td>4.0</td>\n",
       "      <td>https://www.properati.com.ar/1dzv6_venta_departamento_palermo_guemes_3600_balcon_suite_jardin_lavadero_luminoso_lujoso_dependencias_placard_doble-circulacion_subte-linea-d_luisio-propiedades-suc-virrey-del-pino-2378</td>\n",
       "      <td>PALERMO</td>\n",
       "      <td>14.0</td>\n",
       "      <td>PALERMO</td>\n",
       "      <td>1</td>\n",
       "      <td>0.0</td>\n",
       "      <td>1.0</td>\n",
       "      <td>0.0</td>\n",
       "    </tr>\n",
       "    <tr>\n",
       "      <th>19</th>\n",
       "      <td>2017-08-29</td>\n",
       "      <td>sell</td>\n",
       "      <td>apartment</td>\n",
       "      <td>|Argentina|Capital Federal|Palermo|</td>\n",
       "      <td>-34.5770327,-58.4233675</td>\n",
       "      <td>-34.577033</td>\n",
       "      <td>-58.423368</td>\n",
       "      <td>222000.0</td>\n",
       "      <td>52.0</td>\n",
       "      <td>48.0</td>\n",
       "      <td>4269.230769</td>\n",
       "      <td>1.0</td>\n",
       "      <td>https://www.properati.com.ar/1e05k_venta_departamento_palermo_juncal-al-4500_gimnasio_jardin_lavadero_parrilla_piscina_sum_aire-acondicionado_subte-linea-h_subte-linea-c_deptos-temporarios</td>\n",
       "      <td>PALERMO</td>\n",
       "      <td>14.0</td>\n",
       "      <td>PALERMO</td>\n",
       "      <td>1</td>\n",
       "      <td>0.0</td>\n",
       "      <td>1.0</td>\n",
       "      <td>0.0</td>\n",
       "    </tr>\n",
       "    <tr>\n",
       "      <th>20</th>\n",
       "      <td>2017-08-29</td>\n",
       "      <td>sell</td>\n",
       "      <td>apartment</td>\n",
       "      <td>|Argentina|Capital Federal|Palermo|</td>\n",
       "      <td>-34.5950139,-58.4273915</td>\n",
       "      <td>-34.595014</td>\n",
       "      <td>-58.427392</td>\n",
       "      <td>180000.0</td>\n",
       "      <td>70.0</td>\n",
       "      <td>70.0</td>\n",
       "      <td>2571.428571</td>\n",
       "      <td>3.0</td>\n",
       "      <td>https://www.properati.com.ar/1e0mq_venta_departamento_palermo_julian-alvarez-al-1200_lavadero_amoblado_sanchez-carrizo-real-estate</td>\n",
       "      <td>PALERMO</td>\n",
       "      <td>14.0</td>\n",
       "      <td>PALERMO</td>\n",
       "      <td>1</td>\n",
       "      <td>0.0</td>\n",
       "      <td>1.0</td>\n",
       "      <td>0.0</td>\n",
       "    </tr>\n",
       "    <tr>\n",
       "      <th>22</th>\n",
       "      <td>2017-08-30</td>\n",
       "      <td>sell</td>\n",
       "      <td>house</td>\n",
       "      <td>|Argentina|Capital Federal|Palermo|Palermo Hollywood|</td>\n",
       "      <td>-34.5793535,-58.4364489</td>\n",
       "      <td>-34.579354</td>\n",
       "      <td>-58.436449</td>\n",
       "      <td>1200000.0</td>\n",
       "      <td>532.0</td>\n",
       "      <td>334.0</td>\n",
       "      <td>2255.639098</td>\n",
       "      <td>6.0</td>\n",
       "      <td>https://www.properati.com.ar/1e1ve_venta_casa_palermo-hollywood_jardin_lavadero_piscina_luminoso_vista_garage_nexo-propiedades_h0z</td>\n",
       "      <td>PALERMO</td>\n",
       "      <td>14.0</td>\n",
       "      <td>PALERMO</td>\n",
       "      <td>1</td>\n",
       "      <td>0.0</td>\n",
       "      <td>0.0</td>\n",
       "      <td>1.0</td>\n",
       "    </tr>\n",
       "    <tr>\n",
       "      <th>24</th>\n",
       "      <td>2017-08-30</td>\n",
       "      <td>sell</td>\n",
       "      <td>apartment</td>\n",
       "      <td>|Argentina|Capital Federal|Palermo|Palermo Hollywood|</td>\n",
       "      <td>-34.5809281,-58.4404321</td>\n",
       "      <td>-34.580928</td>\n",
       "      <td>-58.440432</td>\n",
       "      <td>270000.0</td>\n",
       "      <td>67.0</td>\n",
       "      <td>64.0</td>\n",
       "      <td>4029.850746</td>\n",
       "      <td>3.0</td>\n",
       "      <td>https://www.properati.com.ar/1e1x0_venta_departamento_palermo-hollywood_arevalo_1700_balcon_toilette_luminoso_apto-credito-hipotecario_yankel-group</td>\n",
       "      <td>PALERMO</td>\n",
       "      <td>14.0</td>\n",
       "      <td>PALERMO</td>\n",
       "      <td>1</td>\n",
       "      <td>0.0</td>\n",
       "      <td>1.0</td>\n",
       "      <td>0.0</td>\n",
       "    </tr>\n",
       "  </tbody>\n",
       "</table>\n",
       "</div>"
      ],
      "text/plain": [
       "   created_on operation property_type  \\\n",
       "18 2017-08-29      sell     apartment   \n",
       "19 2017-08-29      sell     apartment   \n",
       "20 2017-08-29      sell     apartment   \n",
       "22 2017-08-30      sell         house   \n",
       "24 2017-08-30      sell     apartment   \n",
       "\n",
       "                                  place_with_parent_names  \\\n",
       "18                    |Argentina|Capital Federal|Palermo|   \n",
       "19                    |Argentina|Capital Federal|Palermo|   \n",
       "20                    |Argentina|Capital Federal|Palermo|   \n",
       "22  |Argentina|Capital Federal|Palermo|Palermo Hollywood|   \n",
       "24  |Argentina|Capital Federal|Palermo|Palermo Hollywood|   \n",
       "\n",
       "                         lat-lon        lat        lon  price_aprox_usd  \\\n",
       "18  -34.588912403,-58.4134942185 -34.588912 -58.413494         340000.0   \n",
       "19       -34.5770327,-58.4233675 -34.577033 -58.423368         222000.0   \n",
       "20       -34.5950139,-58.4273915 -34.595014 -58.427392         180000.0   \n",
       "22       -34.5793535,-58.4364489 -34.579354 -58.436449        1200000.0   \n",
       "24       -34.5809281,-58.4404321 -34.580928 -58.440432         270000.0   \n",
       "\n",
       "    surface_total_in_m2  surface_covered_in_m2  price_usd_per_m2  rooms  \\\n",
       "18                130.0                  120.0       2615.384615    4.0   \n",
       "19                 52.0                   48.0       4269.230769    1.0   \n",
       "20                 70.0                   70.0       2571.428571    3.0   \n",
       "22                532.0                  334.0       2255.639098    6.0   \n",
       "24                 67.0                   64.0       4029.850746    3.0   \n",
       "\n",
       "                                                                                                                                                                                                              properati_url  \\\n",
       "18  https://www.properati.com.ar/1dzv6_venta_departamento_palermo_guemes_3600_balcon_suite_jardin_lavadero_luminoso_lujoso_dependencias_placard_doble-circulacion_subte-linea-d_luisio-propiedades-suc-virrey-del-pino-2378   \n",
       "19                             https://www.properati.com.ar/1e05k_venta_departamento_palermo_juncal-al-4500_gimnasio_jardin_lavadero_parrilla_piscina_sum_aire-acondicionado_subte-linea-h_subte-linea-c_deptos-temporarios   \n",
       "20                                                                                       https://www.properati.com.ar/1e0mq_venta_departamento_palermo_julian-alvarez-al-1200_lavadero_amoblado_sanchez-carrizo-real-estate   \n",
       "22                                                                                       https://www.properati.com.ar/1e1ve_venta_casa_palermo-hollywood_jardin_lavadero_piscina_luminoso_vista_garage_nexo-propiedades_h0z   \n",
       "24                                                                      https://www.properati.com.ar/1e1x0_venta_departamento_palermo-hollywood_arevalo_1700_balcon_toilette_luminoso_apto-credito-hipotecario_yankel-group   \n",
       "\n",
       "     barrio  comuna barrio_publicado  barrio_match   PH  apartment  house  \n",
       "18  PALERMO    14.0          PALERMO             1  0.0        1.0    0.0  \n",
       "19  PALERMO    14.0          PALERMO             1  0.0        1.0    0.0  \n",
       "20  PALERMO    14.0          PALERMO             1  0.0        1.0    0.0  \n",
       "22  PALERMO    14.0          PALERMO             1  0.0        0.0    1.0  \n",
       "24  PALERMO    14.0          PALERMO             1  0.0        1.0    0.0  "
      ]
     },
     "execution_count": 64,
     "metadata": {},
     "output_type": "execute_result"
    }
   ],
   "source": [
    "categoricals_df = categoricals_df.set_index(df.index)\n",
    "df = pd.concat([df, categoricals_df], axis=1)\n",
    "df.head()"
   ]
  },
  {
   "cell_type": "code",
   "execution_count": 65,
   "metadata": {},
   "outputs": [],
   "source": [
    "df = df.drop(['created_on','operation','place_with_parent_names','lat-lon','properati_url'],axis=1)"
   ]
  },
  {
   "cell_type": "code",
   "execution_count": 66,
   "metadata": {},
   "outputs": [],
   "source": [
    "barrios = le.fit(df['barrio'])\n",
    "barrios_enc = le.fit_transform(df['barrio'])\n",
    "barrios_enc = barrios_enc.reshape(len(barrios_enc),1)\n",
    "ohe_barrios = ohe.fit_transform(barrios_enc)\n",
    "barrios_df = pd.DataFrame(data=ohe_barrios, columns=barrios.classes_)"
   ]
  },
  {
   "cell_type": "code",
   "execution_count": 67,
   "metadata": {},
   "outputs": [
    {
     "data": {
      "text/html": [
       "<div>\n",
       "<style scoped>\n",
       "    .dataframe tbody tr th:only-of-type {\n",
       "        vertical-align: middle;\n",
       "    }\n",
       "\n",
       "    .dataframe tbody tr th {\n",
       "        vertical-align: top;\n",
       "    }\n",
       "\n",
       "    .dataframe thead th {\n",
       "        text-align: right;\n",
       "    }\n",
       "</style>\n",
       "<table border=\"1\" class=\"dataframe\">\n",
       "  <thead>\n",
       "    <tr style=\"text-align: right;\">\n",
       "      <th></th>\n",
       "      <th>property_type</th>\n",
       "      <th>lat</th>\n",
       "      <th>lon</th>\n",
       "      <th>price_aprox_usd</th>\n",
       "      <th>surface_total_in_m2</th>\n",
       "      <th>surface_covered_in_m2</th>\n",
       "      <th>price_usd_per_m2</th>\n",
       "      <th>rooms</th>\n",
       "      <th>barrio</th>\n",
       "      <th>comuna</th>\n",
       "      <th>barrio_publicado</th>\n",
       "      <th>barrio_match</th>\n",
       "      <th>PH</th>\n",
       "      <th>apartment</th>\n",
       "      <th>house</th>\n",
       "      <th>AGRONOMIA</th>\n",
       "      <th>ALMAGRO</th>\n",
       "      <th>BALVANERA</th>\n",
       "      <th>BARRACAS</th>\n",
       "      <th>BELGRANO</th>\n",
       "      <th>BOCA</th>\n",
       "      <th>BOEDO</th>\n",
       "      <th>CABALLITO</th>\n",
       "      <th>CHACARITA</th>\n",
       "      <th>COGHLAN</th>\n",
       "      <th>COLEGIALES</th>\n",
       "      <th>CONSTITUCION</th>\n",
       "      <th>FLORES</th>\n",
       "      <th>FLORESTA</th>\n",
       "      <th>LINIERS</th>\n",
       "      <th>MATADEROS</th>\n",
       "      <th>MONSERRAT</th>\n",
       "      <th>MONTE CASTRO</th>\n",
       "      <th>NUEVA POMPEYA</th>\n",
       "      <th>NUEZ</th>\n",
       "      <th>PALERMO</th>\n",
       "      <th>PARQUE AVELLANEDA</th>\n",
       "      <th>PARQUE CHACABUCO</th>\n",
       "      <th>PARQUE CHAS</th>\n",
       "      <th>PARQUE PATRICIOS</th>\n",
       "      <th>PATERNAL</th>\n",
       "      <th>PUERTO MADERO</th>\n",
       "      <th>RECOLETA</th>\n",
       "      <th>RETIRO</th>\n",
       "      <th>SAAVEDRA</th>\n",
       "      <th>SAN CRISTOBAL</th>\n",
       "      <th>SAN NICOLAS</th>\n",
       "      <th>SAN TELMO</th>\n",
       "      <th>VELEZ SARSFIELD</th>\n",
       "      <th>VERSALLES</th>\n",
       "      <th>VILLA CRESPO</th>\n",
       "      <th>VILLA DEL PARQUE</th>\n",
       "      <th>VILLA DEVOTO</th>\n",
       "      <th>VILLA GRAL. MITRE</th>\n",
       "      <th>VILLA LUGANO</th>\n",
       "      <th>VILLA LURO</th>\n",
       "      <th>VILLA ORTUZAR</th>\n",
       "      <th>VILLA PUEYRREDON</th>\n",
       "      <th>VILLA REAL</th>\n",
       "      <th>VILLA RIACHUELO</th>\n",
       "      <th>VILLA SANTA RITA</th>\n",
       "      <th>VILLA SOLDATI</th>\n",
       "      <th>VILLA URQUIZA</th>\n",
       "    </tr>\n",
       "  </thead>\n",
       "  <tbody>\n",
       "    <tr>\n",
       "      <th>18</th>\n",
       "      <td>apartment</td>\n",
       "      <td>-34.588912</td>\n",
       "      <td>-58.413494</td>\n",
       "      <td>340000.0</td>\n",
       "      <td>130.0</td>\n",
       "      <td>120.0</td>\n",
       "      <td>2615.384615</td>\n",
       "      <td>4.0</td>\n",
       "      <td>PALERMO</td>\n",
       "      <td>14.0</td>\n",
       "      <td>PALERMO</td>\n",
       "      <td>1</td>\n",
       "      <td>0.0</td>\n",
       "      <td>1.0</td>\n",
       "      <td>0.0</td>\n",
       "      <td>0.0</td>\n",
       "      <td>0.0</td>\n",
       "      <td>0.0</td>\n",
       "      <td>0.0</td>\n",
       "      <td>0.0</td>\n",
       "      <td>0.0</td>\n",
       "      <td>0.0</td>\n",
       "      <td>0.0</td>\n",
       "      <td>0.0</td>\n",
       "      <td>0.0</td>\n",
       "      <td>0.0</td>\n",
       "      <td>0.0</td>\n",
       "      <td>0.0</td>\n",
       "      <td>0.0</td>\n",
       "      <td>0.0</td>\n",
       "      <td>0.0</td>\n",
       "      <td>0.0</td>\n",
       "      <td>0.0</td>\n",
       "      <td>0.0</td>\n",
       "      <td>0.0</td>\n",
       "      <td>1.0</td>\n",
       "      <td>0.0</td>\n",
       "      <td>0.0</td>\n",
       "      <td>0.0</td>\n",
       "      <td>0.0</td>\n",
       "      <td>0.0</td>\n",
       "      <td>0.0</td>\n",
       "      <td>0.0</td>\n",
       "      <td>0.0</td>\n",
       "      <td>0.0</td>\n",
       "      <td>0.0</td>\n",
       "      <td>0.0</td>\n",
       "      <td>0.0</td>\n",
       "      <td>0.0</td>\n",
       "      <td>0.0</td>\n",
       "      <td>0.0</td>\n",
       "      <td>0.0</td>\n",
       "      <td>0.0</td>\n",
       "      <td>0.0</td>\n",
       "      <td>0.0</td>\n",
       "      <td>0.0</td>\n",
       "      <td>0.0</td>\n",
       "      <td>0.0</td>\n",
       "      <td>0.0</td>\n",
       "      <td>0.0</td>\n",
       "      <td>0.0</td>\n",
       "      <td>0.0</td>\n",
       "      <td>0.0</td>\n",
       "    </tr>\n",
       "    <tr>\n",
       "      <th>19</th>\n",
       "      <td>apartment</td>\n",
       "      <td>-34.577033</td>\n",
       "      <td>-58.423368</td>\n",
       "      <td>222000.0</td>\n",
       "      <td>52.0</td>\n",
       "      <td>48.0</td>\n",
       "      <td>4269.230769</td>\n",
       "      <td>1.0</td>\n",
       "      <td>PALERMO</td>\n",
       "      <td>14.0</td>\n",
       "      <td>PALERMO</td>\n",
       "      <td>1</td>\n",
       "      <td>0.0</td>\n",
       "      <td>1.0</td>\n",
       "      <td>0.0</td>\n",
       "      <td>0.0</td>\n",
       "      <td>0.0</td>\n",
       "      <td>0.0</td>\n",
       "      <td>0.0</td>\n",
       "      <td>0.0</td>\n",
       "      <td>0.0</td>\n",
       "      <td>0.0</td>\n",
       "      <td>0.0</td>\n",
       "      <td>0.0</td>\n",
       "      <td>0.0</td>\n",
       "      <td>0.0</td>\n",
       "      <td>0.0</td>\n",
       "      <td>0.0</td>\n",
       "      <td>0.0</td>\n",
       "      <td>0.0</td>\n",
       "      <td>0.0</td>\n",
       "      <td>0.0</td>\n",
       "      <td>0.0</td>\n",
       "      <td>0.0</td>\n",
       "      <td>0.0</td>\n",
       "      <td>1.0</td>\n",
       "      <td>0.0</td>\n",
       "      <td>0.0</td>\n",
       "      <td>0.0</td>\n",
       "      <td>0.0</td>\n",
       "      <td>0.0</td>\n",
       "      <td>0.0</td>\n",
       "      <td>0.0</td>\n",
       "      <td>0.0</td>\n",
       "      <td>0.0</td>\n",
       "      <td>0.0</td>\n",
       "      <td>0.0</td>\n",
       "      <td>0.0</td>\n",
       "      <td>0.0</td>\n",
       "      <td>0.0</td>\n",
       "      <td>0.0</td>\n",
       "      <td>0.0</td>\n",
       "      <td>0.0</td>\n",
       "      <td>0.0</td>\n",
       "      <td>0.0</td>\n",
       "      <td>0.0</td>\n",
       "      <td>0.0</td>\n",
       "      <td>0.0</td>\n",
       "      <td>0.0</td>\n",
       "      <td>0.0</td>\n",
       "      <td>0.0</td>\n",
       "      <td>0.0</td>\n",
       "      <td>0.0</td>\n",
       "    </tr>\n",
       "    <tr>\n",
       "      <th>20</th>\n",
       "      <td>apartment</td>\n",
       "      <td>-34.595014</td>\n",
       "      <td>-58.427392</td>\n",
       "      <td>180000.0</td>\n",
       "      <td>70.0</td>\n",
       "      <td>70.0</td>\n",
       "      <td>2571.428571</td>\n",
       "      <td>3.0</td>\n",
       "      <td>PALERMO</td>\n",
       "      <td>14.0</td>\n",
       "      <td>PALERMO</td>\n",
       "      <td>1</td>\n",
       "      <td>0.0</td>\n",
       "      <td>1.0</td>\n",
       "      <td>0.0</td>\n",
       "      <td>0.0</td>\n",
       "      <td>0.0</td>\n",
       "      <td>0.0</td>\n",
       "      <td>0.0</td>\n",
       "      <td>0.0</td>\n",
       "      <td>0.0</td>\n",
       "      <td>0.0</td>\n",
       "      <td>0.0</td>\n",
       "      <td>0.0</td>\n",
       "      <td>0.0</td>\n",
       "      <td>0.0</td>\n",
       "      <td>0.0</td>\n",
       "      <td>0.0</td>\n",
       "      <td>0.0</td>\n",
       "      <td>0.0</td>\n",
       "      <td>0.0</td>\n",
       "      <td>0.0</td>\n",
       "      <td>0.0</td>\n",
       "      <td>0.0</td>\n",
       "      <td>0.0</td>\n",
       "      <td>1.0</td>\n",
       "      <td>0.0</td>\n",
       "      <td>0.0</td>\n",
       "      <td>0.0</td>\n",
       "      <td>0.0</td>\n",
       "      <td>0.0</td>\n",
       "      <td>0.0</td>\n",
       "      <td>0.0</td>\n",
       "      <td>0.0</td>\n",
       "      <td>0.0</td>\n",
       "      <td>0.0</td>\n",
       "      <td>0.0</td>\n",
       "      <td>0.0</td>\n",
       "      <td>0.0</td>\n",
       "      <td>0.0</td>\n",
       "      <td>0.0</td>\n",
       "      <td>0.0</td>\n",
       "      <td>0.0</td>\n",
       "      <td>0.0</td>\n",
       "      <td>0.0</td>\n",
       "      <td>0.0</td>\n",
       "      <td>0.0</td>\n",
       "      <td>0.0</td>\n",
       "      <td>0.0</td>\n",
       "      <td>0.0</td>\n",
       "      <td>0.0</td>\n",
       "      <td>0.0</td>\n",
       "      <td>0.0</td>\n",
       "    </tr>\n",
       "    <tr>\n",
       "      <th>22</th>\n",
       "      <td>house</td>\n",
       "      <td>-34.579354</td>\n",
       "      <td>-58.436449</td>\n",
       "      <td>1200000.0</td>\n",
       "      <td>532.0</td>\n",
       "      <td>334.0</td>\n",
       "      <td>2255.639098</td>\n",
       "      <td>6.0</td>\n",
       "      <td>PALERMO</td>\n",
       "      <td>14.0</td>\n",
       "      <td>PALERMO</td>\n",
       "      <td>1</td>\n",
       "      <td>0.0</td>\n",
       "      <td>0.0</td>\n",
       "      <td>1.0</td>\n",
       "      <td>0.0</td>\n",
       "      <td>0.0</td>\n",
       "      <td>0.0</td>\n",
       "      <td>0.0</td>\n",
       "      <td>0.0</td>\n",
       "      <td>0.0</td>\n",
       "      <td>0.0</td>\n",
       "      <td>0.0</td>\n",
       "      <td>0.0</td>\n",
       "      <td>0.0</td>\n",
       "      <td>0.0</td>\n",
       "      <td>0.0</td>\n",
       "      <td>0.0</td>\n",
       "      <td>0.0</td>\n",
       "      <td>0.0</td>\n",
       "      <td>0.0</td>\n",
       "      <td>0.0</td>\n",
       "      <td>0.0</td>\n",
       "      <td>0.0</td>\n",
       "      <td>0.0</td>\n",
       "      <td>1.0</td>\n",
       "      <td>0.0</td>\n",
       "      <td>0.0</td>\n",
       "      <td>0.0</td>\n",
       "      <td>0.0</td>\n",
       "      <td>0.0</td>\n",
       "      <td>0.0</td>\n",
       "      <td>0.0</td>\n",
       "      <td>0.0</td>\n",
       "      <td>0.0</td>\n",
       "      <td>0.0</td>\n",
       "      <td>0.0</td>\n",
       "      <td>0.0</td>\n",
       "      <td>0.0</td>\n",
       "      <td>0.0</td>\n",
       "      <td>0.0</td>\n",
       "      <td>0.0</td>\n",
       "      <td>0.0</td>\n",
       "      <td>0.0</td>\n",
       "      <td>0.0</td>\n",
       "      <td>0.0</td>\n",
       "      <td>0.0</td>\n",
       "      <td>0.0</td>\n",
       "      <td>0.0</td>\n",
       "      <td>0.0</td>\n",
       "      <td>0.0</td>\n",
       "      <td>0.0</td>\n",
       "      <td>0.0</td>\n",
       "    </tr>\n",
       "    <tr>\n",
       "      <th>24</th>\n",
       "      <td>apartment</td>\n",
       "      <td>-34.580928</td>\n",
       "      <td>-58.440432</td>\n",
       "      <td>270000.0</td>\n",
       "      <td>67.0</td>\n",
       "      <td>64.0</td>\n",
       "      <td>4029.850746</td>\n",
       "      <td>3.0</td>\n",
       "      <td>PALERMO</td>\n",
       "      <td>14.0</td>\n",
       "      <td>PALERMO</td>\n",
       "      <td>1</td>\n",
       "      <td>0.0</td>\n",
       "      <td>1.0</td>\n",
       "      <td>0.0</td>\n",
       "      <td>0.0</td>\n",
       "      <td>0.0</td>\n",
       "      <td>0.0</td>\n",
       "      <td>0.0</td>\n",
       "      <td>0.0</td>\n",
       "      <td>0.0</td>\n",
       "      <td>0.0</td>\n",
       "      <td>0.0</td>\n",
       "      <td>0.0</td>\n",
       "      <td>0.0</td>\n",
       "      <td>0.0</td>\n",
       "      <td>0.0</td>\n",
       "      <td>0.0</td>\n",
       "      <td>0.0</td>\n",
       "      <td>0.0</td>\n",
       "      <td>0.0</td>\n",
       "      <td>0.0</td>\n",
       "      <td>0.0</td>\n",
       "      <td>0.0</td>\n",
       "      <td>0.0</td>\n",
       "      <td>1.0</td>\n",
       "      <td>0.0</td>\n",
       "      <td>0.0</td>\n",
       "      <td>0.0</td>\n",
       "      <td>0.0</td>\n",
       "      <td>0.0</td>\n",
       "      <td>0.0</td>\n",
       "      <td>0.0</td>\n",
       "      <td>0.0</td>\n",
       "      <td>0.0</td>\n",
       "      <td>0.0</td>\n",
       "      <td>0.0</td>\n",
       "      <td>0.0</td>\n",
       "      <td>0.0</td>\n",
       "      <td>0.0</td>\n",
       "      <td>0.0</td>\n",
       "      <td>0.0</td>\n",
       "      <td>0.0</td>\n",
       "      <td>0.0</td>\n",
       "      <td>0.0</td>\n",
       "      <td>0.0</td>\n",
       "      <td>0.0</td>\n",
       "      <td>0.0</td>\n",
       "      <td>0.0</td>\n",
       "      <td>0.0</td>\n",
       "      <td>0.0</td>\n",
       "      <td>0.0</td>\n",
       "      <td>0.0</td>\n",
       "    </tr>\n",
       "  </tbody>\n",
       "</table>\n",
       "</div>"
      ],
      "text/plain": [
       "   property_type        lat        lon  price_aprox_usd  surface_total_in_m2  \\\n",
       "18     apartment -34.588912 -58.413494         340000.0                130.0   \n",
       "19     apartment -34.577033 -58.423368         222000.0                 52.0   \n",
       "20     apartment -34.595014 -58.427392         180000.0                 70.0   \n",
       "22         house -34.579354 -58.436449        1200000.0                532.0   \n",
       "24     apartment -34.580928 -58.440432         270000.0                 67.0   \n",
       "\n",
       "    surface_covered_in_m2  price_usd_per_m2  rooms   barrio  comuna  \\\n",
       "18                  120.0       2615.384615    4.0  PALERMO    14.0   \n",
       "19                   48.0       4269.230769    1.0  PALERMO    14.0   \n",
       "20                   70.0       2571.428571    3.0  PALERMO    14.0   \n",
       "22                  334.0       2255.639098    6.0  PALERMO    14.0   \n",
       "24                   64.0       4029.850746    3.0  PALERMO    14.0   \n",
       "\n",
       "   barrio_publicado  barrio_match   PH  apartment  house  AGRONOMIA  ALMAGRO  \\\n",
       "18          PALERMO             1  0.0        1.0    0.0        0.0      0.0   \n",
       "19          PALERMO             1  0.0        1.0    0.0        0.0      0.0   \n",
       "20          PALERMO             1  0.0        1.0    0.0        0.0      0.0   \n",
       "22          PALERMO             1  0.0        0.0    1.0        0.0      0.0   \n",
       "24          PALERMO             1  0.0        1.0    0.0        0.0      0.0   \n",
       "\n",
       "    BALVANERA  BARRACAS  BELGRANO  BOCA  BOEDO  CABALLITO  CHACARITA  COGHLAN  \\\n",
       "18        0.0       0.0       0.0   0.0    0.0        0.0        0.0      0.0   \n",
       "19        0.0       0.0       0.0   0.0    0.0        0.0        0.0      0.0   \n",
       "20        0.0       0.0       0.0   0.0    0.0        0.0        0.0      0.0   \n",
       "22        0.0       0.0       0.0   0.0    0.0        0.0        0.0      0.0   \n",
       "24        0.0       0.0       0.0   0.0    0.0        0.0        0.0      0.0   \n",
       "\n",
       "    COLEGIALES  CONSTITUCION  FLORES  FLORESTA  LINIERS  MATADEROS  MONSERRAT  \\\n",
       "18         0.0           0.0     0.0       0.0      0.0        0.0        0.0   \n",
       "19         0.0           0.0     0.0       0.0      0.0        0.0        0.0   \n",
       "20         0.0           0.0     0.0       0.0      0.0        0.0        0.0   \n",
       "22         0.0           0.0     0.0       0.0      0.0        0.0        0.0   \n",
       "24         0.0           0.0     0.0       0.0      0.0        0.0        0.0   \n",
       "\n",
       "    MONTE CASTRO  NUEVA POMPEYA  NUEZ  PALERMO  PARQUE AVELLANEDA  \\\n",
       "18           0.0            0.0   0.0      1.0                0.0   \n",
       "19           0.0            0.0   0.0      1.0                0.0   \n",
       "20           0.0            0.0   0.0      1.0                0.0   \n",
       "22           0.0            0.0   0.0      1.0                0.0   \n",
       "24           0.0            0.0   0.0      1.0                0.0   \n",
       "\n",
       "    PARQUE CHACABUCO  PARQUE CHAS  PARQUE PATRICIOS  PATERNAL  PUERTO MADERO  \\\n",
       "18               0.0          0.0               0.0       0.0            0.0   \n",
       "19               0.0          0.0               0.0       0.0            0.0   \n",
       "20               0.0          0.0               0.0       0.0            0.0   \n",
       "22               0.0          0.0               0.0       0.0            0.0   \n",
       "24               0.0          0.0               0.0       0.0            0.0   \n",
       "\n",
       "    RECOLETA  RETIRO  SAAVEDRA  SAN CRISTOBAL  SAN NICOLAS  SAN TELMO  \\\n",
       "18       0.0     0.0       0.0            0.0          0.0        0.0   \n",
       "19       0.0     0.0       0.0            0.0          0.0        0.0   \n",
       "20       0.0     0.0       0.0            0.0          0.0        0.0   \n",
       "22       0.0     0.0       0.0            0.0          0.0        0.0   \n",
       "24       0.0     0.0       0.0            0.0          0.0        0.0   \n",
       "\n",
       "    VELEZ SARSFIELD  VERSALLES  VILLA CRESPO  VILLA DEL PARQUE  VILLA DEVOTO  \\\n",
       "18              0.0        0.0           0.0               0.0           0.0   \n",
       "19              0.0        0.0           0.0               0.0           0.0   \n",
       "20              0.0        0.0           0.0               0.0           0.0   \n",
       "22              0.0        0.0           0.0               0.0           0.0   \n",
       "24              0.0        0.0           0.0               0.0           0.0   \n",
       "\n",
       "    VILLA GRAL. MITRE  VILLA LUGANO  VILLA LURO  VILLA ORTUZAR  \\\n",
       "18                0.0           0.0         0.0            0.0   \n",
       "19                0.0           0.0         0.0            0.0   \n",
       "20                0.0           0.0         0.0            0.0   \n",
       "22                0.0           0.0         0.0            0.0   \n",
       "24                0.0           0.0         0.0            0.0   \n",
       "\n",
       "    VILLA PUEYRREDON  VILLA REAL  VILLA RIACHUELO  VILLA SANTA RITA  \\\n",
       "18               0.0         0.0              0.0               0.0   \n",
       "19               0.0         0.0              0.0               0.0   \n",
       "20               0.0         0.0              0.0               0.0   \n",
       "22               0.0         0.0              0.0               0.0   \n",
       "24               0.0         0.0              0.0               0.0   \n",
       "\n",
       "    VILLA SOLDATI  VILLA URQUIZA  \n",
       "18            0.0            0.0  \n",
       "19            0.0            0.0  \n",
       "20            0.0            0.0  \n",
       "22            0.0            0.0  \n",
       "24            0.0            0.0  "
      ]
     },
     "execution_count": 67,
     "metadata": {},
     "output_type": "execute_result"
    }
   ],
   "source": [
    "barrios_df = barrios_df.set_index(df.index)\n",
    "df = pd.concat([df, barrios_df], axis=1)\n",
    "df.head()"
   ]
  },
  {
   "cell_type": "code",
   "execution_count": 68,
   "metadata": {},
   "outputs": [],
   "source": [
    "df = df.drop(['property_type','barrio','barrio_publicado'],axis=1)"
   ]
  },
  {
   "cell_type": "markdown",
   "metadata": {},
   "source": [
    "### Model training"
   ]
  },
  {
   "cell_type": "code",
   "execution_count": 69,
   "metadata": {},
   "outputs": [
    {
     "name": "stdout",
     "output_type": "stream",
     "text": [
      "El dataset tiene 12105 observaciones\n"
     ]
    }
   ],
   "source": [
    "print(\"El dataset tiene {} observaciones\".format(df.shape[0]))"
   ]
  },
  {
   "cell_type": "code",
   "execution_count": 70,
   "metadata": {},
   "outputs": [
    {
     "name": "stdout",
     "output_type": "stream",
     "text": [
      "El conjunto de entrenamiento tiene 9684 instancias y 59 atributos.\n",
      "El conjunto de testeo tiene 2421 instancias y 59 atributos.\n"
     ]
    }
   ],
   "source": [
    "# Split: Training + Validation % 80 -- Testing %20\n",
    "# train_test_split + KFold\n",
    "\n",
    "from sklearn.model_selection import train_test_split, KFold\n",
    "\n",
    "X = df.drop(['price_aprox_usd'], axis=1)\n",
    "y = df['price_aprox_usd']\n",
    "\n",
    "X_train, X_test, y_train, y_test = train_test_split(X, y, test_size=0.2)\n",
    "\n",
    "print(\"El conjunto de entrenamiento tiene {} instancias y {} atributos.\\nEl conjunto de testeo tiene {} instancias y {} atributos.\".format(X_train.shape[0],\n",
    "                                                                                                                                           X_train.shape[1],\n",
    "                                                                                                                                           X_test.shape[0],\n",
    "                                                                                                                                           X_test.shape[1]))"
   ]
  },
  {
   "cell_type": "code",
   "execution_count": 71,
   "metadata": {},
   "outputs": [],
   "source": [
    "# Decision Tree Regressor\n",
    "\n",
    "from sklearn.tree import DecisionTreeRegressor\n",
    "dtr = DecisionTreeRegressor(random_state = 43)"
   ]
  },
  {
   "cell_type": "code",
   "execution_count": 72,
   "metadata": {},
   "outputs": [
    {
     "data": {
      "text/plain": [
       "DecisionTreeRegressor(criterion='mse', max_depth=None, max_features=None,\n",
       "                      max_leaf_nodes=None, min_impurity_decrease=0.0,\n",
       "                      min_impurity_split=None, min_samples_leaf=1,\n",
       "                      min_samples_split=2, min_weight_fraction_leaf=0.0,\n",
       "                      presort=False, random_state=43, splitter='best')"
      ]
     },
     "execution_count": 72,
     "metadata": {},
     "output_type": "execute_result"
    }
   ],
   "source": [
    "# Model with NO cross validation\n",
    "\n",
    "X_smp, X_smp_tst, y_smp, y_smp_test = train_test_split(X, y, test_size=0.2)\n",
    "dtr.fit(X_smp, y_smp)"
   ]
  },
  {
   "cell_type": "code",
   "execution_count": 73,
   "metadata": {},
   "outputs": [
    {
     "data": {
      "text/plain": [
       "array([135000., 295000., 125000., 345000., 120000., 325000., 124900.,\n",
       "       139900., 730000.,  80000.])"
      ]
     },
     "execution_count": 73,
     "metadata": {},
     "output_type": "execute_result"
    }
   ],
   "source": [
    "y_pred = dtr.predict(X_smp_tst)\n",
    "y_pred[:10]"
   ]
  },
  {
   "cell_type": "code",
   "execution_count": 74,
   "metadata": {},
   "outputs": [
    {
     "name": "stdout",
     "output_type": "stream",
     "text": [
      "la raiz del error medio al cuadrado es 21608.081176044005\n"
     ]
    }
   ],
   "source": [
    "from sklearn.metrics import mean_squared_error\n",
    "rmse = np.sqrt(mean_squared_error(y_smp_test, y_pred))\n",
    "print(\"la raiz del error medio al cuadrado es {}\".format(rmse))"
   ]
  },
  {
   "cell_type": "code",
   "execution_count": 75,
   "metadata": {},
   "outputs": [
    {
     "data": {
      "text/html": [
       "<div>\n",
       "<style scoped>\n",
       "    .dataframe tbody tr th:only-of-type {\n",
       "        vertical-align: middle;\n",
       "    }\n",
       "\n",
       "    .dataframe tbody tr th {\n",
       "        vertical-align: top;\n",
       "    }\n",
       "\n",
       "    .dataframe thead th {\n",
       "        text-align: right;\n",
       "    }\n",
       "</style>\n",
       "<table border=\"1\" class=\"dataframe\">\n",
       "  <thead>\n",
       "    <tr style=\"text-align: right;\">\n",
       "      <th></th>\n",
       "      <th>Valor real</th>\n",
       "      <th>Valor Pred</th>\n",
       "      <th>Dif(+/-)</th>\n",
       "    </tr>\n",
       "  </thead>\n",
       "  <tbody>\n",
       "    <tr>\n",
       "      <th>0</th>\n",
       "      <td>135000.0</td>\n",
       "      <td>135000.0</td>\n",
       "      <td>0.0</td>\n",
       "    </tr>\n",
       "    <tr>\n",
       "      <th>1</th>\n",
       "      <td>297000.0</td>\n",
       "      <td>295000.0</td>\n",
       "      <td>2000.0</td>\n",
       "    </tr>\n",
       "    <tr>\n",
       "      <th>2</th>\n",
       "      <td>125000.0</td>\n",
       "      <td>125000.0</td>\n",
       "      <td>0.0</td>\n",
       "    </tr>\n",
       "    <tr>\n",
       "      <th>3</th>\n",
       "      <td>345000.0</td>\n",
       "      <td>345000.0</td>\n",
       "      <td>0.0</td>\n",
       "    </tr>\n",
       "    <tr>\n",
       "      <th>4</th>\n",
       "      <td>120000.0</td>\n",
       "      <td>120000.0</td>\n",
       "      <td>0.0</td>\n",
       "    </tr>\n",
       "  </tbody>\n",
       "</table>\n",
       "</div>"
      ],
      "text/plain": [
       "   Valor real  Valor Pred  Dif(+/-)\n",
       "0    135000.0    135000.0       0.0\n",
       "1    297000.0    295000.0    2000.0\n",
       "2    125000.0    125000.0       0.0\n",
       "3    345000.0    345000.0       0.0\n",
       "4    120000.0    120000.0       0.0"
      ]
     },
     "execution_count": 75,
     "metadata": {},
     "output_type": "execute_result"
    }
   ],
   "source": [
    "# Some real comparisons\n",
    "\n",
    "val_real = pd.Series(y_smp_test.values)\n",
    "val_pred = pd.Series(y_pred)\n",
    "predicciones = pd.concat([val_real.rename('Valor real'),val_pred.rename('Valor Pred'),abs(val_real-val_pred).rename('Dif(+/-)')], axis=1)\n",
    "predicciones.head()"
   ]
  },
  {
   "cell_type": "code",
   "execution_count": 76,
   "metadata": {},
   "outputs": [],
   "source": [
    "# Optimizing depth\n",
    "\n",
    "rmses_train = []\n",
    "rmses_test = []\n",
    "for i in range(1,30,5):\n",
    "    dtr2 = DecisionTreeRegressor(max_depth=i)\n",
    "    dtr2.fit(X_smp, y_smp)\n",
    "    y_pred_train = dtr2.predict(X_smp)\n",
    "    rmse_train = np.sqrt(mean_squared_error(y_smp, y_pred_train))\n",
    "    rmses_train.append(rmse_train)\n",
    "    y_pred_test = dtr2.predict(X_smp_tst)\n",
    "    rmse_test = np.sqrt(mean_squared_error(y_smp_test, y_pred_test))\n",
    "    rmses_test.append(rmse_test)"
   ]
  },
  {
   "cell_type": "code",
   "execution_count": 77,
   "metadata": {},
   "outputs": [
    {
     "data": {
      "image/png": "[encoded data removed]",
      "text/plain": [
       "<Figure size 432x288 with 1 Axes>"
      ]
     },
     "metadata": {
      "needs_background": "light"
     },
     "output_type": "display_data"
    }
   ],
   "source": [
    "import matplotlib.pyplot as plt\n",
    "%matplotlib inline \n",
    "plt.plot(range(1,30, 5), rmses_train, label='RMSE Training')\n",
    "plt.plot(range(1,30, 5), rmses_test, label='RMSE Testing')\n",
    "plt.legend(loc=\"best\")\n",
    "plt.title(\"RMSE Training vs RMSE Testing para árboles de decisión\")\n",
    "plt.show()"
   ]
  },
  {
   "cell_type": "code",
   "execution_count": 79,
   "metadata": {},
   "outputs": [],
   "source": [
    "def nmsq2rmse(score):\n",
    "    return np.sqrt(-score)"
   ]
  },
  {
   "cell_type": "code",
   "execution_count": 80,
   "metadata": {},
   "outputs": [
    {
     "name": "stdout",
     "output_type": "stream",
     "text": [
      "los scores de cada fold son: [-1.54721807e+09 -2.10554340e+09 -9.94857494e+08 -1.25213965e+09\n",
      " -1.75661240e+09 -4.19223467e+09 -9.10975869e+08 -1.18647303e+09\n",
      " -3.21058042e+09 -1.76825608e+09]\n",
      "La raiz cuadrada del error promedio al cuadrado -usando CROSSVALIDATION- es 42214.748457864465\n"
     ]
    }
   ],
   "source": [
    "# CROSSVALIDATION - KFold = 10 // MULTIPLE IMPLEMENTATIONS to see different results\n",
    "# Option1 = model_selection.cross_val_score\n",
    "\n",
    "from sklearn.model_selection import cross_val_score\n",
    "regressor = DecisionTreeRegressor(max_depth=10, random_state=27)\n",
    "neg_scores = cross_val_score(regressor, X_smp, y_smp, cv=10, scoring='neg_mean_squared_error')\n",
    "print(\"los scores de cada fold son: {}\".format(neg_scores))\n",
    "rmse2 = np.mean(nmsq2rmse(neg_scores))\n",
    "print(\"La raiz cuadrada del error promedio al cuadrado -usando CROSSVALIDATION- es {}\".format(rmse2))"
   ]
  },
  {
   "cell_type": "code",
   "execution_count": 81,
   "metadata": {},
   "outputs": [
    {
     "name": "stdout",
     "output_type": "stream",
     "text": [
      "mean root mean square error for fold 0 : 43319.05110957812\n",
      "mean root mean square error for fold 1 : 35111.72447921801\n",
      "mean root mean square error for fold 2 : 35778.41538374614\n",
      "mean root mean square error for fold 3 : 22077.61934991573\n",
      "mean root mean square error for fold 4 : 88740.29553272825\n",
      "mean root mean square error for fold 5 : 53836.53813827864\n",
      "mean root mean square error for fold 6 : 20086.24613350142\n",
      "mean root mean square error for fold 7 : 49622.36546252391\n",
      "mean root mean square error for fold 8 : 89251.05293990896\n",
      "mean root mean square error for fold 9 : 34799.30746290281\n",
      "TOTAL ROOT MEAN SQUARE ERROR :  47262.26159923019\n"
     ]
    }
   ],
   "source": [
    "# Option2 = model_selection.KFold\n",
    "\n",
    "kf = KFold(n_splits=10,shuffle=True,random_state=29)\n",
    "scores = []\n",
    "fold = 0\n",
    "for train_index,test_index in kf.split(X_train):\n",
    "    x_tr,y_tr,x_val,y_val = X_train.iloc[train_index],y_train.iloc[train_index],X_train.iloc[test_index],y_train.iloc[test_index]\n",
    "    dtr.fit(x_tr,y_tr)\n",
    "    prov = dtr.predict(x_val)\n",
    "    scores.append(np.sqrt(mean_squared_error(y_val, prov)))\n",
    "    print(\"mean root mean square error for fold {} : {}\".format(fold,scores[fold]))\n",
    "    fold += 1\n",
    "print(\"TOTAL ROOT MEAN SQUARE ERROR : \",np.mean(scores))"
   ]
  },
  {
   "cell_type": "code",
   "execution_count": 82,
   "metadata": {},
   "outputs": [],
   "source": [
    "# Optimizing with grid_search\n",
    "\n",
    "from sklearn.model_selection import GridSearchCV\n",
    "from sklearn.tree import DecisionTreeRegressor\n",
    "\n",
    "param_grid = [\n",
    "    {'min_samples_split': [1.0,2,10,20],\n",
    "     'max_depth': [None,2,6,8,10,15],\n",
    "     'max_features': [None,1,3,5],\n",
    "     'min_samples_leaf': [1,2,3,4,5],\n",
    "     'max_leaf_nodes': [None,5, 10, 20]},\n",
    "]\n",
    "\n",
    "dtr = DecisionTreeRegressor()\n",
    "grid_search = GridSearchCV(dtr, param_grid, cv=kf, scoring='neg_mean_squared_error', return_train_score=True,refit=True)"
   ]
  },
  {
   "cell_type": "code",
   "execution_count": 83,
   "metadata": {},
   "outputs": [
    {
     "name": "stdout",
     "output_type": "stream",
     "text": [
      "Training took 343.91225576400757 scs\n"
     ]
    },
    {
     "name": "stderr",
     "output_type": "stream",
     "text": [
      "/home/horacio/anaconda3/lib/python3.7/site-packages/sklearn/model_selection/_search.py:814: DeprecationWarning: The default of the `iid` parameter will change from True to False in version 0.22 and will be removed in 0.24. This will change numeric results when test-set sizes are unequal.\n",
      "  DeprecationWarning)\n"
     ]
    }
   ],
   "source": [
    "import time\n",
    "\n",
    "start = time.time()\n",
    "grid_search.fit(X_smp, y_smp)\n",
    "end = time.time()\n",
    "print(\"Training took\",end-start,\"scs\")"
   ]
  },
  {
   "cell_type": "code",
   "execution_count": 84,
   "metadata": {
    "scrolled": true
   },
   "outputs": [
    {
     "data": {
      "text/html": [
       "<div>\n",
       "<style scoped>\n",
       "    .dataframe tbody tr th:only-of-type {\n",
       "        vertical-align: middle;\n",
       "    }\n",
       "\n",
       "    .dataframe tbody tr th {\n",
       "        vertical-align: top;\n",
       "    }\n",
       "\n",
       "    .dataframe thead th {\n",
       "        text-align: right;\n",
       "    }\n",
       "</style>\n",
       "<table border=\"1\" class=\"dataframe\">\n",
       "  <thead>\n",
       "    <tr style=\"text-align: right;\">\n",
       "      <th></th>\n",
       "      <th>mean_test_score</th>\n",
       "      <th>params</th>\n",
       "      <th>rank_test_score</th>\n",
       "    </tr>\n",
       "  </thead>\n",
       "  <tbody>\n",
       "    <tr>\n",
       "      <th>13</th>\n",
       "      <td>-1.828901e+09</td>\n",
       "      <td>{'max_depth': None, 'max_features': None, 'max_leaf_nodes': None, 'min_samples_leaf': 4, 'min_samples_split': 2}</td>\n",
       "      <td>1</td>\n",
       "    </tr>\n",
       "    <tr>\n",
       "      <th>1614</th>\n",
       "      <td>-1.859596e+09</td>\n",
       "      <td>{'max_depth': 15, 'max_features': None, 'max_leaf_nodes': None, 'min_samples_leaf': 4, 'min_samples_split': 10}</td>\n",
       "      <td>2</td>\n",
       "    </tr>\n",
       "    <tr>\n",
       "      <th>14</th>\n",
       "      <td>-1.861604e+09</td>\n",
       "      <td>{'max_depth': None, 'max_features': None, 'max_leaf_nodes': None, 'min_samples_leaf': 4, 'min_samples_split': 10}</td>\n",
       "      <td>3</td>\n",
       "    </tr>\n",
       "    <tr>\n",
       "      <th>1293</th>\n",
       "      <td>-1.882093e+09</td>\n",
       "      <td>{'max_depth': 10, 'max_features': None, 'max_leaf_nodes': None, 'min_samples_leaf': 4, 'min_samples_split': 2}</td>\n",
       "      <td>4</td>\n",
       "    </tr>\n",
       "    <tr>\n",
       "      <th>1613</th>\n",
       "      <td>-1.902717e+09</td>\n",
       "      <td>{'max_depth': 15, 'max_features': None, 'max_leaf_nodes': None, 'min_samples_leaf': 4, 'min_samples_split': 2}</td>\n",
       "      <td>5</td>\n",
       "    </tr>\n",
       "    <tr>\n",
       "      <th>...</th>\n",
       "      <td>...</td>\n",
       "      <td>...</td>\n",
       "      <td>...</td>\n",
       "    </tr>\n",
       "    <tr>\n",
       "      <th>408</th>\n",
       "      <td>-5.158329e+10</td>\n",
       "      <td>{'max_depth': 2, 'max_features': 1, 'max_leaf_nodes': None, 'min_samples_leaf': 3, 'min_samples_split': 1.0}</td>\n",
       "      <td>1916</td>\n",
       "    </tr>\n",
       "    <tr>\n",
       "      <th>128</th>\n",
       "      <td>-5.158603e+10</td>\n",
       "      <td>{'max_depth': None, 'max_features': 1, 'max_leaf_nodes': 10, 'min_samples_leaf': 3, 'min_samples_split': 1.0}</td>\n",
       "      <td>1917</td>\n",
       "    </tr>\n",
       "    <tr>\n",
       "      <th>428</th>\n",
       "      <td>-5.158909e+10</td>\n",
       "      <td>{'max_depth': 2, 'max_features': 1, 'max_leaf_nodes': 5, 'min_samples_leaf': 3, 'min_samples_split': 1.0}</td>\n",
       "      <td>1918</td>\n",
       "    </tr>\n",
       "    <tr>\n",
       "      <th>112</th>\n",
       "      <td>-5.159875e+10</td>\n",
       "      <td>{'max_depth': None, 'max_features': 1, 'max_leaf_nodes': 5, 'min_samples_leaf': 4, 'min_samples_split': 1.0}</td>\n",
       "      <td>1919</td>\n",
       "    </tr>\n",
       "    <tr>\n",
       "      <th>1096</th>\n",
       "      <td>-5.160153e+10</td>\n",
       "      <td>{'max_depth': 8, 'max_features': 1, 'max_leaf_nodes': 10, 'min_samples_leaf': 5, 'min_samples_split': 1.0}</td>\n",
       "      <td>1920</td>\n",
       "    </tr>\n",
       "  </tbody>\n",
       "</table>\n",
       "<p>1920 rows × 3 columns</p>\n",
       "</div>"
      ],
      "text/plain": [
       "      mean_test_score  \\\n",
       "13      -1.828901e+09   \n",
       "1614    -1.859596e+09   \n",
       "14      -1.861604e+09   \n",
       "1293    -1.882093e+09   \n",
       "1613    -1.902717e+09   \n",
       "...               ...   \n",
       "408     -5.158329e+10   \n",
       "128     -5.158603e+10   \n",
       "428     -5.158909e+10   \n",
       "112     -5.159875e+10   \n",
       "1096    -5.160153e+10   \n",
       "\n",
       "                                                                                                                 params  \\\n",
       "13     {'max_depth': None, 'max_features': None, 'max_leaf_nodes': None, 'min_samples_leaf': 4, 'min_samples_split': 2}   \n",
       "1614    {'max_depth': 15, 'max_features': None, 'max_leaf_nodes': None, 'min_samples_leaf': 4, 'min_samples_split': 10}   \n",
       "14    {'max_depth': None, 'max_features': None, 'max_leaf_nodes': None, 'min_samples_leaf': 4, 'min_samples_split': 10}   \n",
       "1293     {'max_depth': 10, 'max_features': None, 'max_leaf_nodes': None, 'min_samples_leaf': 4, 'min_samples_split': 2}   \n",
       "1613     {'max_depth': 15, 'max_features': None, 'max_leaf_nodes': None, 'min_samples_leaf': 4, 'min_samples_split': 2}   \n",
       "...                                                                                                                 ...   \n",
       "408        {'max_depth': 2, 'max_features': 1, 'max_leaf_nodes': None, 'min_samples_leaf': 3, 'min_samples_split': 1.0}   \n",
       "128       {'max_depth': None, 'max_features': 1, 'max_leaf_nodes': 10, 'min_samples_leaf': 3, 'min_samples_split': 1.0}   \n",
       "428           {'max_depth': 2, 'max_features': 1, 'max_leaf_nodes': 5, 'min_samples_leaf': 3, 'min_samples_split': 1.0}   \n",
       "112        {'max_depth': None, 'max_features': 1, 'max_leaf_nodes': 5, 'min_samples_leaf': 4, 'min_samples_split': 1.0}   \n",
       "1096         {'max_depth': 8, 'max_features': 1, 'max_leaf_nodes': 10, 'min_samples_leaf': 5, 'min_samples_split': 1.0}   \n",
       "\n",
       "      rank_test_score  \n",
       "13                  1  \n",
       "1614                2  \n",
       "14                  3  \n",
       "1293                4  \n",
       "1613                5  \n",
       "...               ...  \n",
       "408              1916  \n",
       "128              1917  \n",
       "428              1918  \n",
       "112              1919  \n",
       "1096             1920  \n",
       "\n",
       "[1920 rows x 3 columns]"
      ]
     },
     "execution_count": 84,
     "metadata": {},
     "output_type": "execute_result"
    }
   ],
   "source": [
    "df_cv = pd.DataFrame(grid_search.cv_results_).sort_values(by='rank_test_score')[['mean_test_score','params','rank_test_score']]\n",
    "df_cv"
   ]
  },
  {
   "cell_type": "code",
   "execution_count": 85,
   "metadata": {},
   "outputs": [
    {
     "data": {
      "text/plain": [
       "{'max_depth': None,\n",
       " 'max_features': None,\n",
       " 'max_leaf_nodes': None,\n",
       " 'min_samples_leaf': 4,\n",
       " 'min_samples_split': 2}"
      ]
     },
     "execution_count": 85,
     "metadata": {},
     "output_type": "execute_result"
    }
   ],
   "source": [
    "grid_search.best_params_"
   ]
  },
  {
   "cell_type": "code",
   "execution_count": 86,
   "metadata": {},
   "outputs": [
    {
     "data": {
      "text/plain": [
       "-1828901299.5398643"
      ]
     },
     "execution_count": 86,
     "metadata": {},
     "output_type": "execute_result"
    }
   ],
   "source": [
    "grid_search.best_score_"
   ]
  },
  {
   "cell_type": "code",
   "execution_count": 87,
   "metadata": {},
   "outputs": [
    {
     "name": "stdout",
     "output_type": "stream",
     "text": [
      "la raiz cuadrada del error medio al cuadrado -para el GRIDSEARCH- es 42765.65560750664\n"
     ]
    }
   ],
   "source": [
    "print(\"la raiz cuadrada del error medio al cuadrado -para el GRIDSEARCH- es {}\".format(nmsq2rmse(grid_search.best_score_)))"
   ]
  },
  {
   "cell_type": "code",
   "execution_count": 88,
   "metadata": {},
   "outputs": [
    {
     "name": "stdout",
     "output_type": "stream",
     "text": [
      "RMSE for optimised decission tree regressor:  40381.72845410321\n"
     ]
    }
   ],
   "source": [
    "# OPTIMISED MODEL FOR TEST SET\n",
    "\n",
    "opt_dtr = grid_search.best_estimator_\n",
    "opt_dtr.fit(X_train,y_train)\n",
    "test_predictions = opt_dtr.predict(X_test)\n",
    "test_score = np.sqrt(mean_squared_error(y_test,test_predictions))\n",
    "print(\"RMSE for optimised decission tree regressor: \",test_score)"
   ]
  },
  {
   "cell_type": "markdown",
   "metadata": {},
   "source": [
    "### KNN"
   ]
  },
  {
   "cell_type": "code",
   "execution_count": 89,
   "metadata": {},
   "outputs": [
    {
     "name": "stdout",
     "output_type": "stream",
     "text": [
      "la raiz del error medio al cuadrado para el regresor KNN es 21608.081176044005\n"
     ]
    }
   ],
   "source": [
    "from sklearn.neighbors import KNeighborsRegressor\n",
    "knn = KNeighborsRegressor()\n",
    "knn.fit(X_smp, y_smp)\n",
    "y_pred_knn = knn.predict(X_smp_tst)\n",
    "np.sqrt(mean_squared_error(y_smp_test, y_pred_knn))\n",
    "print(\"la raiz del error medio al cuadrado para el regresor KNN es {}\".format(rmse))"
   ]
  },
  {
   "cell_type": "code",
   "execution_count": 90,
   "metadata": {},
   "outputs": [],
   "source": [
    "rmsek_train = []\n",
    "rmsek_test = []\n",
    "for i in range(1,30,1):\n",
    "    dtr2 = KNeighborsRegressor(n_neighbors = i)\n",
    "    dtr2.fit(X_smp, y_smp)\n",
    "    y_pred_train = dtr2.predict(X_smp)\n",
    "    rmse_train = np.sqrt(mean_squared_error(y_smp, y_pred_train))\n",
    "    rmsek_train.append(rmse_train)\n",
    "    y_pred_test = dtr2.predict(X_smp_tst)\n",
    "    rmse_test = np.sqrt(mean_squared_error(y_smp_test, y_pred_test))\n",
    "    rmsek_test.append(rmse_test)"
   ]
  },
  {
   "cell_type": "code",
   "execution_count": 91,
   "metadata": {
    "scrolled": true
   },
   "outputs": [
    {
     "data": {
      "image/png": "[encoded data removed]",
      "text/plain": [
       "<Figure size 432x288 with 1 Axes>"
      ]
     },
     "metadata": {
      "needs_background": "light"
     },
     "output_type": "display_data"
    }
   ],
   "source": [
    "plt.plot(range(1,30, 1), rmsek_train, label='RMSE Training')\n",
    "plt.plot(range(1,30, 1), rmsek_test, label='RMSE Testing')\n",
    "plt.legend(loc=\"best\")\n",
    "plt.title(\"RMSE Training vs RMSE Testing para KNN\")\n",
    "plt.show()"
   ]
  },
  {
   "cell_type": "code",
   "execution_count": 92,
   "metadata": {},
   "outputs": [
    {
     "name": "stdout",
     "output_type": "stream",
     "text": [
      "la raiz del error medio al cuadrado para el regresor KNN es 24418.961761938906\n"
     ]
    }
   ],
   "source": [
    "knn = KNeighborsRegressor(n_neighbors=1)\n",
    "knn.fit(X_smp, y_smp)\n",
    "y_pred_knn = knn.predict(X_smp_tst)\n",
    "rmsek = np.sqrt(mean_squared_error(y_smp_test, y_pred_knn))\n",
    "print(\"la raiz del error medio al cuadrado para el regresor KNN es {}\".format(rmsek))"
   ]
  },
  {
   "cell_type": "code",
   "execution_count": 93,
   "metadata": {},
   "outputs": [
    {
     "name": "stdout",
     "output_type": "stream",
     "text": [
      "mean root mean square error for fold 0 : 30487.934862277598\n",
      "mean root mean square error for fold 1 : 32551.795463908256\n",
      "mean root mean square error for fold 2 : 24491.72920468728\n",
      "mean root mean square error for fold 3 : 27607.216416890016\n",
      "mean root mean square error for fold 4 : 59915.68946201091\n",
      "mean root mean square error for fold 5 : 44745.9940861825\n",
      "mean root mean square error for fold 6 : 23039.51655896099\n",
      "mean root mean square error for fold 7 : 133096.75853126173\n",
      "mean root mean square error for fold 8 : 37166.02408845572\n",
      "mean root mean square error for fold 9 : 24958.959931775007\n",
      "TOTAL ROOT MEAN SQUARE ERROR :  43806.161860641\n"
     ]
    }
   ],
   "source": [
    "scoresk = []\n",
    "foldk = 0\n",
    "for train_index,test_index in kf.split(X_train):\n",
    "    x_tr,y_tr,x_val,y_val = X_train.iloc[train_index],y_train.iloc[train_index],X_train.iloc[test_index],y_train.iloc[test_index]\n",
    "    knn.fit(x_tr,y_tr)\n",
    "    prov = knn.predict(x_val)\n",
    "    scoresk.append(np.sqrt(mean_squared_error(y_val, prov)))\n",
    "    print(\"mean root mean square error for fold {} : {}\".format(foldk,scoresk[foldk]))\n",
    "    foldk += 1\n",
    "print(\"TOTAL ROOT MEAN SQUARE ERROR : \",np.mean(scoresk))"
   ]
  },
  {
   "cell_type": "code",
   "execution_count": 94,
   "metadata": {},
   "outputs": [
    {
     "name": "stdout",
     "output_type": "stream",
     "text": [
      "RMSE of NON crossvalidated model:  46698.77040319411\n"
     ]
    }
   ],
   "source": [
    "#### KNN TEST SET\n",
    "\n",
    "knn.fit(X_train, y_train)\n",
    "res_knn = knn.predict(X_test)\n",
    "score = np.sqrt(mean_squared_error(y_test, res_knn))\n",
    "print(\"RMSE of NON crossvalidated model: \",score)"
   ]
  }
 ],
 "metadata": {
  "kernelspec": {
   "display_name": "Python 3",
   "language": "python",
   "name": "python3"
  },
  "language_info": {
   "codemirror_mode": {
    "name": "ipython",
    "version": 3
   },
   "file_extension": ".py",
   "mimetype": "text/x-python",
   "name": "python",
   "nbconvert_exporter": "python",
   "pygments_lexer": "ipython3",
   "version": "3.7.4"
  }
 },
 "nbformat": 4,
 "nbformat_minor": 2
}
